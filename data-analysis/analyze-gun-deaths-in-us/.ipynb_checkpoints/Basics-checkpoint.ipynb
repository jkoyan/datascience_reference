{
 "cells": [
  {
   "cell_type": "markdown",
   "metadata": {},
   "source": [
    "### Analyze the data on  Gun Deaths in the US \n",
    "In this project, we analyze gun detahs in the US. The dataset came from FiveThirtyEight. The dataset is stored in the guns.csv file from 2012 to 2014."
   ]
  },
  {
   "cell_type": "code",
   "execution_count": 28,
   "metadata": {
    "collapsed": false
   },
   "outputs": [
    {
     "data": {
      "text/plain": [
       "[['',\n",
       "  'year',\n",
       "  'month',\n",
       "  'intent',\n",
       "  'police',\n",
       "  'sex',\n",
       "  'age',\n",
       "  'race',\n",
       "  'hispanic',\n",
       "  'place',\n",
       "  'education'],\n",
       " ['1',\n",
       "  '2012',\n",
       "  '01',\n",
       "  'Suicide',\n",
       "  '0',\n",
       "  'M',\n",
       "  '34',\n",
       "  'Asian/Pacific Islander',\n",
       "  '100',\n",
       "  'Home',\n",
       "  '4'],\n",
       " ['2', '2012', '01', 'Suicide', '0', 'F', '21', 'White', '100', 'Street', '3'],\n",
       " ['3',\n",
       "  '2012',\n",
       "  '01',\n",
       "  'Suicide',\n",
       "  '0',\n",
       "  'M',\n",
       "  '60',\n",
       "  'White',\n",
       "  '100',\n",
       "  'Other specified',\n",
       "  '4'],\n",
       " ['4', '2012', '02', 'Suicide', '0', 'M', '64', 'White', '100', 'Home', '4']]"
      ]
     },
     "execution_count": 28,
     "metadata": {},
     "output_type": "execute_result"
    }
   ],
   "source": [
    "import csv\n",
    "import datetime \n",
    "file = open('guns.csv', 'r')\n",
    "\n",
    "data = list(csv.reader(file, delimiter=','))\n",
    "data[0:5]"
   ]
  },
  {
   "cell_type": "code",
   "execution_count": 29,
   "metadata": {
    "collapsed": false
   },
   "outputs": [
    {
     "name": "stdout",
     "output_type": "stream",
     "text": [
      "['', 'year', 'month', 'intent', 'police', 'sex', 'age', 'race', 'hispanic', 'place', 'education']\n"
     ]
    },
    {
     "data": {
      "text/plain": [
       "[['1',\n",
       "  '2012',\n",
       "  '01',\n",
       "  'Suicide',\n",
       "  '0',\n",
       "  'M',\n",
       "  '34',\n",
       "  'Asian/Pacific Islander',\n",
       "  '100',\n",
       "  'Home',\n",
       "  '4'],\n",
       " ['2', '2012', '01', 'Suicide', '0', 'F', '21', 'White', '100', 'Street', '3'],\n",
       " ['3',\n",
       "  '2012',\n",
       "  '01',\n",
       "  'Suicide',\n",
       "  '0',\n",
       "  'M',\n",
       "  '60',\n",
       "  'White',\n",
       "  '100',\n",
       "  'Other specified',\n",
       "  '4'],\n",
       " ['4', '2012', '02', 'Suicide', '0', 'M', '64', 'White', '100', 'Home', '4'],\n",
       " ['5',\n",
       "  '2012',\n",
       "  '02',\n",
       "  'Suicide',\n",
       "  '0',\n",
       "  'M',\n",
       "  '31',\n",
       "  'White',\n",
       "  '100',\n",
       "  'Other specified',\n",
       "  '2']]"
      ]
     },
     "execution_count": 29,
     "metadata": {},
     "output_type": "execute_result"
    }
   ],
   "source": [
    "#extract header row, then remove header row from the list\n",
    "headers = data[0]\n",
    "print(headers)\n",
    "data = data[1:]\n",
    "data[0:5]"
   ]
  },
  {
   "cell_type": "markdown",
   "metadata": {},
   "source": [
    "The year column contains information on the year in which the gun deaths occured. We can use this column to calculate how many gun deaths happened in each year.\n",
    "We can perform this operation by creating a dictionary, then keeping count in the dictionary of how many times each element occurs in the year column."
   ]
  },
  {
   "cell_type": "code",
   "execution_count": 30,
   "metadata": {
    "collapsed": false
   },
   "outputs": [
    {
     "name": "stdout",
     "output_type": "stream",
     "text": [
      "Number of gun deaths by year from 2012 to 2014: \n",
      "Year                 Gun Deaths\n",
      "-------------------------------\n",
      "2013                   33636\n",
      "2012                   33563\n",
      "2014                   33599\n"
     ]
    }
   ],
   "source": [
    "years = [row[1] for row in data]\n",
    "\n",
    "year_counts = dict()\n",
    "\n",
    "for year in years:\n",
    "    if year in year_counts:\n",
    "        year_counts[year] +=  1\n",
    "    else:\n",
    "        year_counts[year] =  1\n",
    "print(\"Number of gun deaths by year from 2012 to 2014: \")        \n",
    "print(\"Year                 Gun Deaths\")\n",
    "print(\"-------------------------------\")\n",
    "for k,v in year_counts.items():\n",
    "    print(k, \"                 \", v)\n"
   ]
  },
  {
   "cell_type": "code",
   "execution_count": 31,
   "metadata": {
    "collapsed": false
   },
   "outputs": [],
   "source": [
    "dates = [datetime.datetime(year=int(row[1]), month=int(row[2]), day=1 ) for row in data]\n"
   ]
  },
  {
   "cell_type": "code",
   "execution_count": 32,
   "metadata": {
    "collapsed": false
   },
   "outputs": [],
   "source": [
    "date_counts = dict()\n",
    "for date in dates:\n",
    "    if date in date_counts:\n",
    "        date_counts[date] +=1\n",
    "    else:\n",
    "        date_counts[date] =1\n"
   ]
  },
  {
   "cell_type": "code",
   "execution_count": 33,
   "metadata": {
    "collapsed": false
   },
   "outputs": [],
   "source": [
    "#Method to pretty print the key values of the race dictionary\n",
    "def printRaceDictionary(race_counts, header = \"\\nGun deaths by Race: \"):\n",
    "    print(header)\n",
    "    print(\"--------------------------------------------------\")\n",
    "    print(\"Race\", \"                         \", \"Gun Deaths\")\n",
    "    print(\"--------------------------------------------------\")\n",
    "    space = 32\n",
    "    for k,v in race_counts.items():\n",
    "        strlen = 33 - len(k)\n",
    "        spacestr = \"\"\n",
    "        for i in range(1,strlen):\n",
    "            spacestr += \" \"\n",
    "        print(k, spacestr, v)"
   ]
  },
  {
   "cell_type": "code",
   "execution_count": 34,
   "metadata": {
    "collapsed": false
   },
   "outputs": [
    {
     "name": "stdout",
     "output_type": "stream",
     "text": [
      "\n",
      "Gun deaths by Race: \n",
      "--------------------------------------------------\n",
      "Race                           Gun Deaths\n",
      "--------------------------------------------------\n",
      "Native American/Native Alaskan    917\n",
      "Hispanic                          9022\n",
      "White                             66237\n",
      "Asian/Pacific Islander            1326\n",
      "Black                             23296\n"
     ]
    }
   ],
   "source": [
    "# sex column = 5 and race column = 7 where index starts at 0\n",
    "sex_counts = dict()\n",
    "race_counts = dict()\n",
    "for row in data:\n",
    "    sex = row[5]\n",
    "    if sex in sex_counts:\n",
    "        sex_counts[sex] += 1\n",
    "    else:\n",
    "        sex_counts[sex] = 1\n",
    "    race = row[7]\n",
    "    if race in race_counts:\n",
    "        race_counts[race] += 1\n",
    "    else:\n",
    "        race_counts[race] = 1\n",
    "\n",
    "printRaceDictionary(race_counts)"
   ]
  },
  {
   "cell_type": "markdown",
   "metadata": {},
   "source": [
    "We explored gun deaths by race in the last cell. However, our analysis only gives us the total number of gun deaths by race in the US. Unless we know the proportion of each race in the US, we won't be able to meaningfully compare the numbers. \n",
    "What we really want to get is a rate of gun deaths per 100000 people of each race. In order to do this, we'll nedd to read in data about what percentage of the US population falls into each racial category. We can import census data to explore the propertion of gun deaths.\n",
    "\n",
    "The census.csv file contains infromation on the total population of the US, as well as the total population of each racial group in the US. "
   ]
  },
  {
   "cell_type": "code",
   "execution_count": 35,
   "metadata": {
    "collapsed": false
   },
   "outputs": [
    {
     "data": {
      "text/plain": [
       "[['Id',\n",
       "  'Year',\n",
       "  'Id',\n",
       "  'Sex',\n",
       "  'Id',\n",
       "  'Hispanic Origin',\n",
       "  'Id',\n",
       "  'Id2',\n",
       "  'Geography',\n",
       "  'Total',\n",
       "  'Race Alone - White',\n",
       "  'Race Alone - Hispanic',\n",
       "  'Race Alone - Black or African American',\n",
       "  'Race Alone - American Indian and Alaska Native',\n",
       "  'Race Alone - Asian',\n",
       "  'Race Alone - Native Hawaiian and Other Pacific Islander',\n",
       "  'Two or More Races'],\n",
       " ['cen42010',\n",
       "  'April 1, 2010 Census',\n",
       "  'totsex',\n",
       "  'Both Sexes',\n",
       "  'tothisp',\n",
       "  'Total',\n",
       "  '0100000US',\n",
       "  '',\n",
       "  'United States',\n",
       "  '308745538',\n",
       "  '197318956',\n",
       "  '44618105',\n",
       "  '40250635',\n",
       "  '3739506',\n",
       "  '15159516',\n",
       "  '674625',\n",
       "  '6984195']]"
      ]
     },
     "execution_count": 35,
     "metadata": {},
     "output_type": "execute_result"
    }
   ],
   "source": [
    "censusFile = open(\"census.csv\", \"r\")\n",
    "census = list(csv.reader(censusFile, delimiter=\",\"))\n",
    "census"
   ]
  },
  {
   "cell_type": "markdown",
   "metadata": {},
   "source": [
    "#### Calculating gun deaths per 100K of the population by race\n",
    "Earlier, we computed the number of gun deaths per race, and created a dictionary, race_counts. In order to get from the raw counts of gun deaths by race to a rate of gun deaths per 100000 people in each race, we'll need to divide the total number of gun deaths by the population of each race. \n",
    "So for example the total number of white people killed from the period of 2012 to 2014 is 66237. From the census data the total white population was 197318956. So the rate of white people killed per 100000 is :\n",
    "lets say N is the total white population from the census data\n",
    "and K is the total gun deaths among the white population from year 2012 to 2014.\n",
    "\n",
    "white_gun_death_rate = $\\frac{K}{N}$\n",
    "\n",
    "white_gun_death_rate = $66237/197318956$ = 0.0003356849303419181\n",
    "\n",
    "rate_per_hundredk = 0.0003356849303419181 * 100000 = 33.56\n",
    "\n",
    "\n",
    "This gives us 33.56, which can be interpreted as 33.56 out of every 100000 people in the White census race category in the US were killed by guns between 2012 and 2014.\n",
    "\n",
    "We will need to calculate the same rates for each racial category. The challenge is that the racial categories are named slightly different in census and in data. We''ll need to manually construct a dictionary that allows us to map between them and perform the division."
   ]
  },
  {
   "cell_type": "code",
   "execution_count": 36,
   "metadata": {
    "collapsed": false
   },
   "outputs": [
    {
     "data": {
      "text/plain": [
       "{'Asian/Pacific Islander': 15834141,\n",
       " 'Black': 40250635,\n",
       " 'Hispanic': 44618105,\n",
       " 'Native American/Native Alaskan': 3739506,\n",
       " 'White': 197318956}"
      ]
     },
     "execution_count": 36,
     "metadata": {},
     "output_type": "execute_result"
    }
   ],
   "source": [
    "mapping = dict()\n",
    "mapping[\"Asian/Pacific Islander\"] = int(census[1][14])+int(census[1][15])\n",
    "mapping[\"Black\"] = int(census[1][12])\n",
    "mapping[\"Native American/Native Alaskan\"] = int(census[1][13])\n",
    "mapping[\"Hispanic\"] = int(census[1][11])\n",
    "mapping[\"White\"] = int(census[1][10])\n",
    "mapping"
   ]
  },
  {
   "cell_type": "code",
   "execution_count": 37,
   "metadata": {
    "collapsed": false
   },
   "outputs": [
    {
     "name": "stdout",
     "output_type": "stream",
     "text": [
      "\n",
      "Rate of deaths per 100K by race: \n",
      "--------------------------------------------------\n",
      "Race                           Gun Deaths\n",
      "--------------------------------------------------\n",
      "Native American/Native Alaskan    24.521955573811088\n",
      "Hispanic                          20.220491210910907\n",
      "White                             33.56849303419181\n",
      "Asian/Pacific Islander            8.374309664161762\n",
      "Black                             57.8773477735196\n"
     ]
    }
   ],
   "source": [
    "race_per_hundredk = dict()\n",
    "for k,v in race_counts.items():\n",
    "    race_per_hundredk[k] = (v/mapping[k])*100000\n",
    "printRaceDictionary(race_per_hundredk, header=\"\\nRate of deaths per 100K by race: \")"
   ]
  },
  {
   "cell_type": "markdown",
   "metadata": {
    "collapsed": true
   },
   "source": [
    "#### Filtering by intent ####\n",
    "We can filter the results, and restrict them to the \"Homicide\" intent. This will tell us what the gun-related murder rate per 100000 people is in each racial category. In order to do this we will have to recompute the race_counts dictionary but only count rows where the intent is \"Homicide\"."
   ]
  },
  {
   "cell_type": "code",
   "execution_count": 38,
   "metadata": {
    "collapsed": false
   },
   "outputs": [
    {
     "name": "stdout",
     "output_type": "stream",
     "text": [
      "The rate of homicide per 100,000 people by race:\n",
      "--------------------------------------------------\n",
      "Race                           Gun Deaths\n",
      "--------------------------------------------------\n",
      "Native American/Native Alaskan    8.717729026240365\n",
      "Hispanic                          12.627161104219914\n",
      "White                             4.6356417981453335\n",
      "Asian/Pacific Islander            3.530346230970155\n",
      "Black                             48.471284987180944\n"
     ]
    }
   ],
   "source": [
    "intents = [row[3] for row in data]\n",
    "races = [row[7] for row in data]\n",
    "homicide_race_per_hundredk = dict()\n",
    "for i, race in enumerate(races):\n",
    "    if intents[i].lower() == 'homicide':\n",
    "        if race in homicide_race_per_hundredk:\n",
    "            homicide_race_per_hundredk[race] += 1\n",
    "        else:\n",
    "            homicide_race_per_hundredk[race] = 1\n",
    "for k,v in homicide_race_per_hundredk.items():\n",
    "        homicide_race_per_hundredk[k] = (v/mapping[k])*100000\n",
    "printRaceDictionary(homicide_race_per_hundredk, header=\"The rate of homicide per 100,000 people by race:\")\n",
    "\n"
   ]
  },
  {
   "cell_type": "markdown",
   "metadata": {
    "collapsed": true
   },
   "source": [
    "#### Which Months of the year have the highest Homicide rate -"
   ]
  },
  {
   "cell_type": "code",
   "execution_count": 49,
   "metadata": {
    "collapsed": false
   },
   "outputs": [
    {
     "name": "stdout",
     "output_type": "stream",
     "text": [
      "Gun deaths by month from 2012 to 2014:\n",
      "-----------------------------------------\n",
      "Month     Gun Deaths\n",
      "-----------------------------------------\n",
      "January     8273\n",
      "February     7093\n",
      "March     8289\n",
      "April     8455\n",
      "May     8669\n",
      "June     8677\n",
      "July     8989\n",
      "August     8783\n",
      "September     8508\n",
      "October     8406\n",
      "November     8243\n",
      "December     8413\n"
     ]
    }
   ],
   "source": [
    "#First lets create a months mapping dictionary where the keys will be the integer representation of the months,\n",
    "#the value will be the names.\n",
    "months = {1:\"January\", 2:\"February\", 3:\"March\", 4:\"April\", 5:\"May\", 6:\"June\", 7:\"July\", 8:\"August\", 9:\"September\", 10:\"October\", 11:\"November\", 12:\"December\"}\n",
    "headers\n",
    "deaths_by_month = {}\n",
    "for row in data:\n",
    "    month = int(row[2])\n",
    "    if month in deaths_by_month:\n",
    "        deaths_by_month[month] += 1\n",
    "    else:\n",
    "        deaths_by_month[month] = 1\n",
    "print(\"Gun deaths by month from 2012 to 2014:\")\n",
    "print(\"-----------------------------------------\")\n",
    "print(\"Month     Gun Deaths\")\n",
    "print(\"-----------------------------------------\")\n",
    "space = 20\n",
    "for k,v in deaths_by_month.items():\n",
    "    ilen = len(k)\n",
    "    comptedspace = space - ilen\n",
    "    spaces = \"\"\n",
    "    for i in range(1,computedspace):\n",
    "        spaces += \" \"\n",
    "    print(months[k], spaces ,v)"
   ]
  },
  {
   "cell_type": "code",
   "execution_count": null,
   "metadata": {
    "collapsed": true
   },
   "outputs": [],
   "source": []
  }
 ],
 "metadata": {
  "kernelspec": {
   "display_name": "Python [py35]",
   "language": "python",
   "name": "Python [py35]"
  },
  "language_info": {
   "codemirror_mode": {
    "name": "ipython",
    "version": 3
   },
   "file_extension": ".py",
   "mimetype": "text/x-python",
   "name": "python",
   "nbconvert_exporter": "python",
   "pygments_lexer": "ipython3",
   "version": "3.5.2"
  }
 },
 "nbformat": 4,
 "nbformat_minor": 0
}
