{
 "cells": [
  {
   "cell_type": "code",
   "execution_count": 33,
   "metadata": {
    "collapsed": false
   },
   "outputs": [
    {
     "name": "stdout",
     "output_type": "stream",
     "text": [
      "['FILM', 'RottenTomatoes', 'RottenTomatoes_User', 'Metacritic', 'Metacritic_User', 'IMDB', 'Fandango_Stars', 'Fandango_Ratingvalue', 'RT_norm', 'RT_user_norm', 'Metacritic_norm', 'Metacritic_user_nom', 'IMDB_norm', 'RT_norm_round', 'RT_user_norm_round', 'Metacritic_norm_round', 'Metacritic_user_norm_round', 'IMDB_norm_round', 'Metacritic_user_vote_count', 'IMDB_user_vote_count', 'Fandango_votes', 'Fandango_Difference']\n"
     ]
    },
    {
     "data": {
      "text/html": [
       "<div>\n",
       "<table border=\"1\" class=\"dataframe\">\n",
       "  <thead>\n",
       "    <tr style=\"text-align: right;\">\n",
       "      <th></th>\n",
       "      <th>FILM</th>\n",
       "      <th>RottenTomatoes</th>\n",
       "      <th>RT_norm</th>\n",
       "      <th>Metacritic</th>\n",
       "      <th>Metacritic_norm</th>\n",
       "    </tr>\n",
       "  </thead>\n",
       "  <tbody>\n",
       "    <tr>\n",
       "      <th>0</th>\n",
       "      <td>Avengers: Age of Ultron (2015)</td>\n",
       "      <td>74</td>\n",
       "      <td>3.70</td>\n",
       "      <td>66</td>\n",
       "      <td>3.30</td>\n",
       "    </tr>\n",
       "    <tr>\n",
       "      <th>1</th>\n",
       "      <td>Cinderella (2015)</td>\n",
       "      <td>85</td>\n",
       "      <td>4.25</td>\n",
       "      <td>67</td>\n",
       "      <td>3.35</td>\n",
       "    </tr>\n",
       "    <tr>\n",
       "      <th>2</th>\n",
       "      <td>Ant-Man (2015)</td>\n",
       "      <td>80</td>\n",
       "      <td>4.00</td>\n",
       "      <td>64</td>\n",
       "      <td>3.20</td>\n",
       "    </tr>\n",
       "  </tbody>\n",
       "</table>\n",
       "</div>"
      ],
      "text/plain": [
       "                             FILM  RottenTomatoes  RT_norm  Metacritic  \\\n",
       "0  Avengers: Age of Ultron (2015)              74     3.70          66   \n",
       "1               Cinderella (2015)              85     4.25          67   \n",
       "2                  Ant-Man (2015)              80     4.00          64   \n",
       "\n",
       "   Metacritic_norm  \n",
       "0             3.30  \n",
       "1             3.35  \n",
       "2             3.20  "
      ]
     },
     "execution_count": 33,
     "metadata": {},
     "output_type": "execute_result"
    }
   ],
   "source": [
    "import pandas as pd\n",
    "import matplotlib.pyplot as plt\n",
    "%matplotlib inline\n",
    "\n",
    "plt.style.use('fivethirtyeight')\n",
    "movies = pd.read_csv('fandango_score_comparison.csv')\n",
    "print(movies.columns.tolist())\n",
    "#movies\n",
    "movies[['FILM','RottenTomatoes','RT_norm','Metacritic','Metacritic_norm']].head(3)\n"
   ]
  },
  {
   "cell_type": "code",
   "execution_count": 34,
   "metadata": {
    "collapsed": false
   },
   "outputs": [
    {
     "data": {
      "image/png": "[encoded data removed]",
      "text/plain": [
       "<matplotlib.figure.Figure at 0x11801ac50>"
      ]
     },
     "metadata": {},
     "output_type": "display_data"
    },
    {
     "data": {
      "image/png": "[encoded data removed]",
      "text/plain": [
       "<matplotlib.figure.Figure at 0x118622eb8>"
      ]
     },
     "metadata": {},
     "output_type": "display_data"
    }
   ],
   "source": [
    "# Plot histogram of Fandango_Stars and Metacritic_norm_round\n",
    "plt.hist(movies['Fandango_Stars'],5)\n",
    "plt.title('Fandango_Stars histogram')\n",
    "plt.show()\n",
    "plt.hist(movies['Metacritic_norm_round'],6)\n",
    "plt.title('Metacritic_norm_round histogram')\n",
    "plt.show()\n"
   ]
  },
  {
   "cell_type": "code",
   "execution_count": null,
   "metadata": {
    "collapsed": true
   },
   "outputs": [],
   "source": []
  },
  {
   "cell_type": "markdown",
   "metadata": {},
   "source": [
    "A careful comparison of the two histograms leads to the following conclusion.\n",
    "1. The lowest rating for any movies by the Fandango review site is a 3.0 , on the other extreme we see that there are movies that manages to get between 4.5 to a maximum of 5 points. The reviews peak at 4.5 and then glides down the bell curve.\n",
    "\n",
    "2. The lowest rating for the Metacritic review starts with a 0.5 and with high of 4.5, the bell curve peaks at between 2.5 to 3.0 "
   ]
  },
  {
   "cell_type": "code",
   "execution_count": 35,
   "metadata": {
    "collapsed": false
   },
   "outputs": [
    {
     "name": "stdout",
     "output_type": "stream",
     "text": [
      "Fandango: Mean = 4.089041095890411, Median = 4.0, STD = 0.5385321612699531\n",
      "Metacritic: Mean = 2.9726027397260273, Median = 3.0, STD = 0.9875610297038636\n"
     ]
    }
   ],
   "source": [
    "# calculate the mean, median and the mode\n",
    "import numpy as np\n",
    "fandango_mean = np.mean(movies['Fandango_Stars'])\n",
    "fandango_median = np.median(movies['Fandango_Stars'])\n",
    "fandango_std = np.std(movies['Fandango_Stars'])\n",
    "print(\"Fandango: Mean = {0}, Median = {1}, STD = {2}\".format(fandango_mean,fandango_median,fandango_std))\n",
    "\n",
    "metacritic_mean = np.mean(movies['Metacritic_norm_round'])\n",
    "metacritic_median = np.median(movies['Metacritic_norm_round'])\n",
    "metacritic_std = np.std(movies['Metacritic_norm_round'])\n",
    "print(\"Metacritic: Mean = {0}, Median = {1}, STD = {2}\".format(metacritic_mean,metacritic_median,metacritic_std))\n",
    "\n"
   ]
  },
  {
   "cell_type": "markdown",
   "metadata": {},
   "source": [
    "Analyze the Descriptive statistics of the Fandango and Metacritic user ratings\n",
    "1. Mean of Fandango ratings are at 4.08 and the Median at 4.0 which means the distribution is skewed a little bit towards the right because there are more movies with a rating of 4 and above. The average rating is about 0.53 Standard deviation from the mean. Which indicates the ratings are cluttered around the mean.\n",
    "\n",
    "2. The Mean of the Metacritic user rating is at 2.972 with a Median of 3.0 which is about the same and is characteristic of a normal distribution."
   ]
  },
  {
   "cell_type": "code",
   "execution_count": 36,
   "metadata": {
    "collapsed": false,
    "scrolled": true
   },
   "outputs": [
    {
     "data": {
      "image/png": "[encoded data removed]",
      "text/plain": [
       "<matplotlib.figure.Figure at 0x11a588ef0>"
      ]
     },
     "metadata": {},
     "output_type": "display_data"
    }
   ],
   "source": [
    "#Make a scatterplot that compares the Fandango_Stars column to the Metacritic_norm_round column.\n",
    "fig = plt.figure()\n",
    "fig.suptitle(\"Scatter plot of Fandango stars vs. Metacritic rating\", fontsize=10)\n",
    "ax = fig.add_subplot(1,1,1)\n",
    "fig.subplots_adjust(top = 0.85)\n",
    "ax.scatter( movies['Metacritic_norm_round'], movies['Fandango_Stars'],)\n",
    "ax.set_xlabel(\"Metacritic rating\")\n",
    "ax.set_ylabel(\"Fandango Stars\")\n",
    "\n",
    "plt.show()\n"
   ]
  },
  {
   "cell_type": "markdown",
   "metadata": {},
   "source": [
    "Several movies have low ratings by Metacritic and high ratings by Fandango and vice versa.\n",
    "We can explore this further by finding the differences between the columns.\n"
   ]
  },
  {
   "cell_type": "code",
   "execution_count": 37,
   "metadata": {
    "collapsed": false
   },
   "outputs": [
    {
     "data": {
      "text/html": [
       "<div>\n",
       "<table border=\"1\" class=\"dataframe\">\n",
       "  <thead>\n",
       "    <tr style=\"text-align: right;\">\n",
       "      <th></th>\n",
       "      <th>FILM</th>\n",
       "      <th>Fandango_Stars</th>\n",
       "      <th>Metacritic_norm_round</th>\n",
       "      <th>fm_diff</th>\n",
       "    </tr>\n",
       "  </thead>\n",
       "  <tbody>\n",
       "    <tr>\n",
       "      <th>3</th>\n",
       "      <td>Do You Believe? (2015)</td>\n",
       "      <td>5.0</td>\n",
       "      <td>1.0</td>\n",
       "      <td>4.0</td>\n",
       "    </tr>\n",
       "    <tr>\n",
       "      <th>85</th>\n",
       "      <td>Little Boy (2015)</td>\n",
       "      <td>4.5</td>\n",
       "      <td>1.5</td>\n",
       "      <td>3.0</td>\n",
       "    </tr>\n",
       "    <tr>\n",
       "      <th>47</th>\n",
       "      <td>Annie (2014)</td>\n",
       "      <td>4.5</td>\n",
       "      <td>1.5</td>\n",
       "      <td>3.0</td>\n",
       "    </tr>\n",
       "    <tr>\n",
       "      <th>19</th>\n",
       "      <td>Pixels (2015)</td>\n",
       "      <td>4.5</td>\n",
       "      <td>1.5</td>\n",
       "      <td>3.0</td>\n",
       "    </tr>\n",
       "    <tr>\n",
       "      <th>134</th>\n",
       "      <td>The Longest Ride (2015)</td>\n",
       "      <td>4.5</td>\n",
       "      <td>1.5</td>\n",
       "      <td>3.0</td>\n",
       "    </tr>\n",
       "  </tbody>\n",
       "</table>\n",
       "</div>"
      ],
      "text/plain": [
       "                        FILM  Fandango_Stars  Metacritic_norm_round  fm_diff\n",
       "3     Do You Believe? (2015)             5.0                    1.0      4.0\n",
       "85         Little Boy (2015)             4.5                    1.5      3.0\n",
       "47              Annie (2014)             4.5                    1.5      3.0\n",
       "19             Pixels (2015)             4.5                    1.5      3.0\n",
       "134  The Longest Ride (2015)             4.5                    1.5      3.0"
      ]
     },
     "execution_count": 37,
     "metadata": {},
     "output_type": "execute_result"
    }
   ],
   "source": [
    "#Subtract the Fandango_Stars column from the Metacritic_norm_round column, and assign to a new column, fm_diff, in movies.\n",
    "#Assign the absolute value of fm_diff to fm_diff. This will ensure that we don't only look at cases where Metacritic_norm_round is greater than Fandango_Stars.\n",
    "movies['fm_diff'] = abs(movies['Metacritic_norm_round'] - movies['Fandango_Stars'])\n",
    "\n",
    "#Sort movies based on the fm_diff column, in descending order.\n",
    "movies.sort_values(['fm_diff'],inplace=True,ascending=False)\n",
    "\n",
    "#Print out the top 5 movies with the biggest differences between Fandango_Stars and Metacritic_norm_round.\n",
    "movies[['FILM','Fandango_Stars','Metacritic_norm_round','fm_diff']].head(5)"
   ]
  },
  {
   "cell_type": "markdown",
   "metadata": {},
   "source": [
    "#### Correlations\n",
    "Let's see what the correlation coeficient between Fandango_stars and Metacritic_norm_round is.\n",
    "This will help us determine if fandango consistently have higher scores than Metacritic, or if only a few movies were assigned higher ratings.\n",
    "\n",
    "We can create a linear regression to predict the Fandango ratings based on the Metacritic ratings"
   ]
  },
  {
   "cell_type": "code",
   "execution_count": 38,
   "metadata": {
    "collapsed": false
   },
   "outputs": [
    {
     "name": "stdout",
     "output_type": "stream",
     "text": [
      "Covariance between Metacritic and Fandango:  0.0955597543694\n",
      "R-value measuring correlation between Metacritic and Fandango:  0.179679874813\n",
      "R-value, Correlation Coeficient between Metacritic and Fandango is :  0.178449190739\n"
     ]
    }
   ],
   "source": [
    "\n",
    "import scipy.stats as stats\n",
    "\n",
    "# whats the covariance between Metacritic and Fandango\n",
    "covar = np.cov(movies['Metacritic_norm_round'], movies['Fandango_Stars'])[0,1]\n",
    "rvalue = covar/(np.std(movies['Metacritic_norm_round'])*np.std(movies['Fandango_Stars']))\n",
    "\n",
    "print(\"Covariance between Metacritic and Fandango: \",covar)\n",
    "print(\"R-value measuring correlation between Metacritic and Fandango: \",rvalue)\n",
    "# Calculate the r-value measuring the correlation between Fandango_Stars and Metacritic_norm_round using \n",
    "# the scipy.stats.pearsonr function.\n",
    "rvalue,pvalue = stats.pearsonr(movies['Metacritic_norm_round'], movies['Fandango_Stars'])\n",
    "print(\"R-value, Correlation Coeficient between Metacritic and Fandango is : \",rvalue)\n",
    "\n"
   ]
  },
  {
   "cell_type": "markdown",
   "metadata": {},
   "source": [
    "The correlation coeficient i.e. r-value is a bivariate statistic measures the strength of the linear relationship between two variables , In this case it is 0.1784 which indicates a weak relationship. "
   ]
  },
  {
   "cell_type": "code",
   "execution_count": 42,
   "metadata": {
    "collapsed": false
   },
   "outputs": [
    {
     "name": "stdout",
     "output_type": "stream",
     "text": [
      "The predicted Fandango_Stars for a Metacritic rating of 3.0: 4.09170715282\n",
      "The predicted Fandango_Stars for a Metacritic rating of 4.0: 4.1890182308\n"
     ]
    }
   ],
   "source": [
    "# Use the scipy.stats.linregress function create a linear regression line with Metacritic_norm_round \n",
    "# as the x-values and Fandango_Stars as the y-values.\n",
    "\n",
    "slope, intercept, r_value, p_value, std_err = stats.linregress(movies['Metacritic_norm_round'], movies['Fandango_Stars'])\n",
    "\n",
    "# Predict what a movie that got a 3.0 in Metacritic would get on Fandango using the line. y = mx + C\n",
    "predicted_Fandango_stars = slope*3.0 + intercept\n",
    "print(\"The predicted Fandango_Stars for a Metacritic rating of 3.0:\",predicted_Fandango_stars)\n",
    "predicted_Fandango_stars = slope*4.0 + intercept\n",
    "print(\"The predicted Fandango_Stars for a Metacritic rating of 4.0:\",predicted_Fandango_stars)"
   ]
  },
  {
   "cell_type": "code",
   "execution_count": 45,
   "metadata": {
    "collapsed": false
   },
   "outputs": [
    {
     "data": {
      "image/png": "[encoded data removed]",
      "text/plain": [
       "<matplotlib.figure.Figure at 0x1181c2128>"
      ]
     },
     "metadata": {},
     "output_type": "display_data"
    }
   ],
   "source": [
    "# Create a scatter plot between Metacritic and Fandango and on top of the plot the x[3.0, 4.0] \n",
    "# and predicted y[4.0917,4.18]\n",
    "\n",
    "#Make a scatterplot that compares the Fandango_Stars column to the Metacritic_norm_round column.\n",
    "\n",
    "x = [3.0, 4.0] \n",
    "predicted_y = [4.0917,4.18]\n",
    "fig = plt.figure()\n",
    "fig.suptitle(\"Scatter plot of Fandango stars vs. Metacritic rating\", fontsize=10)\n",
    "ax = fig.add_subplot(1,1,1)\n",
    "fig.subplots_adjust(top = 0.85)\n",
    "ax.scatter( movies['Metacritic_norm_round'], movies['Fandango_Stars'])\n",
    "ax.set_xlabel(\"Metacritic rating\")\n",
    "ax.set_ylabel(\"Fandango Stars\")\n",
    "ax.plot(x,predicted_y)\n",
    "plt.show()\n"
   ]
  },
  {
   "cell_type": "markdown",
   "metadata": {},
   "source": [
    "Here are some potential next steps that can be taken to explore the data further:\n",
    "\n",
    "Explore the other rating services, IMDB and RottenTomatoes.\n",
    "See how they differ from each other.\n",
    "See how they differ from Fandango.\n",
    "See how user scores differ from critic scores.\n",
    "Acquire more recent review data, and see if the pattern of Fandango inflating reviews persists.\n",
    "Dig more into why certain movies had their scores inflated more than others."
   ]
  }
 ],
 "metadata": {
  "anaconda-cloud": {},
  "kernelspec": {
   "display_name": "Python [py35]",
   "language": "python",
   "name": "Python [py35]"
  },
  "language_info": {
   "codemirror_mode": {
    "name": "ipython",
    "version": 3
   },
   "file_extension": ".py",
   "mimetype": "text/x-python",
   "name": "python",
   "nbconvert_exporter": "python",
   "pygments_lexer": "ipython3",
   "version": "3.5.2"
  }
 },
 "nbformat": 4,
 "nbformat_minor": 0
}
