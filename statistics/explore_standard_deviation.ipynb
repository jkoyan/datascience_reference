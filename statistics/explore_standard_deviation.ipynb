{
 "cells": [
  {
   "cell_type": "markdown",
   "metadata": {},
   "source": [
    "Explore Standard Deviation in a Normal Distribution -\n",
    "- In a standard distribution about 68% of the data falls within one standard deviation from the mean.\n",
    "- 95% of the data within 2 standard deviations.\n",
    "- 99% of the data within 3 standard deviations.\n",
    "\n",
    "A dataset that has normal distribution has a bell curve."
   ]
  },
  {
   "cell_type": "markdown",
   "metadata": {},
   "source": [
    "The wing_lengths variable is a list that contains the length of the wings of a house fly in millimeters\n",
    "#### Instructions ####\n",
    "- For each point in wing_lengths, calculate the distance from the mean in number of standard deviations.\n",
    "- Calculate the percentage of the data that's within one standard deviation of the mean. Assign the result to within_one_percentage.\n",
    "- Calculate the percentage of the data that's within two standard deviations of the mean. Assign the result to - within_two_percentage.\n",
    "- Calculate the percentage of the data that's within three standard deviations of the mean. Assign the result to within_three_percentage.\n"
   ]
  },
  {
   "cell_type": "code",
   "execution_count": 17,
   "metadata": {
    "collapsed": false
   },
   "outputs": [
    {
     "name": "stdout",
     "output_type": "stream",
     "text": [
      "Mean of wing lengths - 45.5\n"
     ]
    }
   ],
   "source": [
    "# Housefly wing lengths in millimeters\n",
    "import numpy as np\n",
    "\n",
    "wing_lengths = [36, 37, 38, 38, 39, 39, 40, 40, 40, 40, 41, 41, 41, 41, 41, 41, 42, 42, 42, 42, 42, 42, 42, 43, 43, 43, 43, 43, 43, 43, 43, 44, 44, 44, 44, 44, 44, 44, 44, 44, 45, 45, 45, 45, 45, 45, 45, 45, 45, 45, 46, 46, 46, 46, 46, 46, 46, 46, 46, 46, 47, 47, 47, 47, 47, 47, 47, 47, 47, 48, 48, 48, 48, 48, 48, 48, 48, 49, 49, 49, 49, 49, 49, 49, 50, 50, 50, 50, 50, 50, 51, 51, 51, 51, 52, 52, 53, 53, 54, 55]\n",
    "wing_mean = np.mean(wing_lengths)\n",
    "print(\"Mean of wing lengths - {}\".format(wing_mean))\n"
   ]
  },
  {
   "cell_type": "code",
   "execution_count": 18,
   "metadata": {
    "collapsed": false
   },
   "outputs": [
    {
     "name": "stdout",
     "output_type": "stream",
     "text": [
      "Standard Deviation of wing lengths - 3.9\n"
     ]
    }
   ],
   "source": [
    "wing_std = np.std(wing_lengths)\n",
    "print(\"Standard Deviation of wing lengths - {}\".format(wing_stddev))"
   ]
  },
  {
   "cell_type": "code",
   "execution_count": 19,
   "metadata": {
    "collapsed": false
   },
   "outputs": [
    {
     "name": "stdout",
     "output_type": "stream",
     "text": [
      "Standard Deviation of wing lengths using custom method- 3.9\n"
     ]
    }
   ],
   "source": [
    "#calculation of std dev\n",
    "def std(data):\n",
    "    mean = np.mean(data)\n",
    "    variance = np.mean([ (d-mean)**2 for d in data])\n",
    "    return variance**(1/2)\n",
    "std_dev = std(wing_lengths)\n",
    "print(\"Standard Deviation of wing lengths using custom method- {}\".format(std_dev))"
   ]
  },
  {
   "cell_type": "code",
   "execution_count": 21,
   "metadata": {
    "collapsed": false
   },
   "outputs": [
    {
     "data": {
      "text/plain": [
       "array([-2.43589744, -2.17948718, -1.92307692, -1.92307692, -1.66666667,\n",
       "       -1.66666667, -1.41025641, -1.41025641, -1.41025641, -1.41025641,\n",
       "       -1.15384615, -1.15384615, -1.15384615, -1.15384615, -1.15384615,\n",
       "       -1.15384615, -0.8974359 , -0.8974359 , -0.8974359 , -0.8974359 ,\n",
       "       -0.8974359 , -0.8974359 , -0.8974359 , -0.64102564, -0.64102564,\n",
       "       -0.64102564, -0.64102564, -0.64102564, -0.64102564, -0.64102564,\n",
       "       -0.64102564, -0.38461538, -0.38461538, -0.38461538, -0.38461538,\n",
       "       -0.38461538, -0.38461538, -0.38461538, -0.38461538, -0.38461538,\n",
       "       -0.12820513, -0.12820513, -0.12820513, -0.12820513, -0.12820513,\n",
       "       -0.12820513, -0.12820513, -0.12820513, -0.12820513, -0.12820513,\n",
       "        0.12820513,  0.12820513,  0.12820513,  0.12820513,  0.12820513,\n",
       "        0.12820513,  0.12820513,  0.12820513,  0.12820513,  0.12820513,\n",
       "        0.38461538,  0.38461538,  0.38461538,  0.38461538,  0.38461538,\n",
       "        0.38461538,  0.38461538,  0.38461538,  0.38461538,  0.64102564,\n",
       "        0.64102564,  0.64102564,  0.64102564,  0.64102564,  0.64102564,\n",
       "        0.64102564,  0.64102564,  0.8974359 ,  0.8974359 ,  0.8974359 ,\n",
       "        0.8974359 ,  0.8974359 ,  0.8974359 ,  0.8974359 ,  1.15384615,\n",
       "        1.15384615,  1.15384615,  1.15384615,  1.15384615,  1.15384615,\n",
       "        1.41025641,  1.41025641,  1.41025641,  1.41025641,  1.66666667,\n",
       "        1.66666667,  1.92307692,  1.92307692,  2.17948718,  2.43589744])"
      ]
     },
     "execution_count": 21,
     "metadata": {},
     "output_type": "execute_result"
    }
   ],
   "source": [
    "#calculate the distance from the mean for each point\n",
    "standard_deviations = (wing_lengths - wing_mean)/wing_std\n",
    "standard_deviations"
   ]
  },
  {
   "cell_type": "code",
   "execution_count": 25,
   "metadata": {
    "collapsed": false
   },
   "outputs": [
    {
     "name": "stdout",
     "output_type": "stream",
     "text": [
      "0.68% of data within 1 standard deviation, 0.96 of data within 2 standard deviations and 1.0 within 3.\n",
      "Total number of data - 100.0\n",
      "Number of data points within one std - 100\n"
     ]
    }
   ],
   "source": [
    "def within_percentage(deviations, number_of_std_dev):\n",
    "    within = [d for d in deviations if d<= number_of_std_dev and d >= -number_of_std_dev]\n",
    "    percentage = float(len(within))/float(len(deviations))\n",
    "    return percentage\n",
    "\n",
    "within_one_percentage = within_percentage(standard_deviations, 1)\n",
    "within_two_percentage = within_percentage(standard_deviations, 2)\n",
    "within_three_percentage = within_percentage(standard_deviations, 3)\n",
    "print(\"{}% of data within 1 standard deviation, {} of data within 2 standard deviations and {} within 3.\".format(within_one_percentage, within_two_percentage, within_three_percentage))\n",
    "print(\"Total number of data - {}\".format(float(len(wing_lengths))))\n",
    "print(\"Number of data points within one std - {}\".format(len([d for d in distance_from_mean if d <= wing_stddev])))"
   ]
  },
  {
   "cell_type": "code",
   "execution_count": null,
   "metadata": {
    "collapsed": true
   },
   "outputs": [],
   "source": []
  }
 ],
 "metadata": {
  "kernelspec": {
   "display_name": "Python [py35]",
   "language": "python",
   "name": "Python [py35]"
  },
  "language_info": {
   "codemirror_mode": {
    "name": "ipython",
    "version": 3
   },
   "file_extension": ".py",
   "mimetype": "text/x-python",
   "name": "python",
   "nbconvert_exporter": "python",
   "pygments_lexer": "ipython3",
   "version": "3.5.3"
  }
 },
 "nbformat": 4,
 "nbformat_minor": 0
}
