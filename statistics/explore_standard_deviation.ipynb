{
 "cells": [
  {
   "cell_type": "markdown",
   "metadata": {},
   "source": [
    "Explore Standard Deviation in a Normal Distribution -\n",
    "- In a standard distribution about 68% of the data falls within one standard deviation from the mean.\n",
    "- 95% of the data within 2 standard deviations.\n",
    "- 99% of the data within 3 standard deviations.\n",
    "\n",
    "A dataset that has normal distribution has a bell curve."
   ]
  },
  {
   "cell_type": "markdown",
   "metadata": {},
   "source": [
    "The wing_lengths variable is a list that contains the length of the wings of a house fly in millimeters\n",
    "#### Instructions ####\n",
    "- For each point in wing_lengths, calculate the distance from the mean in number of standard deviations.\n",
    "- Calculate the percentage of the data that's within one standard deviation of the mean. Assign the result to within_one_percentage.\n",
    "- Calculate the percentage of the data that's within two standard deviations of the mean. Assign the result to - within_two_percentage.\n",
    "- Calculate the percentage of the data that's within three standard deviations of the mean. Assign the result to within_three_percentage.\n"
   ]
  },
  {
   "cell_type": "code",
   "execution_count": 27,
   "metadata": {
    "collapsed": false
   },
   "outputs": [
    {
     "name": "stdout",
     "output_type": "stream",
     "text": [
      "Mean of wing lengths - 45.5\n"
     ]
    }
   ],
   "source": [
    "# Housefly wing lengths in millimeters\n",
    "import numpy as np\n",
    "import matplotlib.pyplot as plt\n",
    "%matplotlib inline\n",
    "\n",
    "wing_lengths = [36, 37, 38, 38, 39, 39, 40, 40, 40, 40, 41, 41, 41, 41, 41, 41, 42, 42, 42, 42, 42, 42, 42, 43, 43, 43, 43, 43, 43, 43, 43, 44, 44, 44, 44, 44, 44, 44, 44, 44, 45, 45, 45, 45, 45, 45, 45, 45, 45, 45, 46, 46, 46, 46, 46, 46, 46, 46, 46, 46, 47, 47, 47, 47, 47, 47, 47, 47, 47, 48, 48, 48, 48, 48, 48, 48, 48, 49, 49, 49, 49, 49, 49, 49, 50, 50, 50, 50, 50, 50, 51, 51, 51, 51, 52, 52, 53, 53, 54, 55]\n",
    "wing_mean = np.mean(wing_lengths)\n",
    "print(\"Mean of wing lengths - {}\".format(wing_mean))\n"
   ]
  },
  {
   "cell_type": "code",
   "execution_count": 28,
   "metadata": {
    "collapsed": false
   },
   "outputs": [
    {
     "name": "stdout",
     "output_type": "stream",
     "text": [
      "Standard Deviation of wing lengths - 3.9\n"
     ]
    }
   ],
   "source": [
    "wing_std = np.std(wing_lengths)\n",
    "print(\"Standard Deviation of wing lengths - {}\".format(wing_stddev))"
   ]
  },
  {
   "cell_type": "code",
   "execution_count": 29,
   "metadata": {
    "collapsed": false
   },
   "outputs": [
    {
     "name": "stdout",
     "output_type": "stream",
     "text": [
      "Standard Deviation of wing lengths using custom method- 3.9\n"
     ]
    }
   ],
   "source": [
    "#calculation of std dev\n",
    "def std(data):\n",
    "    mean = np.mean(data)\n",
    "    variance = np.mean([ (d-mean)**2 for d in data])\n",
    "    return variance**(1/2)\n",
    "std_dev = std(wing_lengths)\n",
    "print(\"Standard Deviation of wing lengths using custom method- {}\".format(std_dev))"
   ]
  },
  {
   "cell_type": "code",
   "execution_count": 38,
   "metadata": {
    "collapsed": false
   },
   "outputs": [
    {
     "data": {
      "image/png": "[encoded data removed]",
      "text/plain": [
       "<matplotlib.figure.Figure at 0x11c098e80>"
      ]
     },
     "metadata": {},
     "output_type": "display_data"
    }
   ],
   "source": [
    "#calculate the distance from the mean for each point\n",
    "standard_deviations = (wing_lengths - wing_mean)/wing_std\n",
    "fig = plt.figure(figsize=(10,4))\n",
    "ax1 = fig.add_subplot(1,2,1)\n",
    "ax1.hist(wing_lengths,color=\"b\")\n",
    "ax1.axvline(np.mean(wing_lengths),color=\"w\")\n",
    "ax1.set_title(\"Distribution of wing lengths\")\n",
    "ax1.tick_params(top=\"off\", left=\"off\", bottom=\"off\", right=\"off\")\n",
    "for k,spine in ax1.spines.items():\n",
    "    spine.set_visible(False)\n",
    "ax2 = fig.add_subplot(1,2,2)\n",
    "ax2.hist(standard_deviations,color=\"g\")\n",
    "ax2.axvline(np.mean(standard_deviations),color=\"w\")\n",
    "ax2.tick_params(top=\"off\", left=\"off\", bottom=\"off\", right=\"off\")\n",
    "ax2.set_title(\"Distribution of standard deviations of wing length\")\n",
    "for k,spine in ax2.spines.items():\n",
    "    spine.set_visible(False)\n",
    "plt.show()"
   ]
  },
  {
   "cell_type": "code",
   "execution_count": 40,
   "metadata": {
    "collapsed": false
   },
   "outputs": [
    {
     "name": "stdout",
     "output_type": "stream",
     "text": [
      "68.0% of data within 1 standard deviation, 96.0 of data within 2 standard deviations and 100.0 within 3.\n"
     ]
    }
   ],
   "source": [
    "def within_percentage(deviations, number_of_std_dev):\n",
    "    within = [d for d in deviations if d<= number_of_std_dev and d >= -number_of_std_dev]\n",
    "    percentage = float(len(within))/float(len(deviations))\n",
    "    return percentage*100.0\n",
    "\n",
    "within_one_percentage = within_percentage(standard_deviations, 1)\n",
    "within_two_percentage = within_percentage(standard_deviations, 2)\n",
    "within_three_percentage = within_percentage(standard_deviations, 3)\n",
    "print(\"{}% of data within 1 standard deviation, {} of data within 2 standard deviations and {} within 3.\".format(within_one_percentage, within_two_percentage, within_three_percentage))"
   ]
  },
  {
   "cell_type": "code",
   "execution_count": null,
   "metadata": {
    "collapsed": true
   },
   "outputs": [],
   "source": []
  }
 ],
 "metadata": {
  "anaconda-cloud": {},
  "kernelspec": {
   "display_name": "Python [py35]",
   "language": "python",
   "name": "Python [py35]"
  },
  "language_info": {
   "codemirror_mode": {
    "name": "ipython",
    "version": 3
   },
   "file_extension": ".py",
   "mimetype": "text/x-python",
   "name": "python",
   "nbconvert_exporter": "python",
   "pygments_lexer": "ipython3",
   "version": "3.5.3"
  }
 },
 "nbformat": 4,
 "nbformat_minor": 0
}
