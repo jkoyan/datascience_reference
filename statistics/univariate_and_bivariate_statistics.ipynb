{
 "cells": [
  {
   "cell_type": "markdown",
   "metadata": {},
   "source": [
    "### Univariate and Bivariate statistics -\n",
    "In this notebook we will look at what are Univariate and Bivariate statistics and understand their significance in statistics.\n",
    "\n",
    "Full disclosure that the definitions and notes in the following sections were taken from the book - [\"Forecasting Principles and Practice\"](https://www.otexts.org/fpp) by Ron J Hyndman and George Athanasopoulos, It's a Comprehensive introduction to the latest forecasting methods using R. \n",
    "In this notebook we will look at Univariate Statistics and Bivariate Statistics. Both are methods to analyze and describe the data with a summary statistic. A summary number calculated from the data is called a statistic.\n",
    "\n",
    "- Univariate Descriptive Statistics:\n",
    "For a single data set, the most widely used statistics are the average and median. Following are a list of the different types of univariate statistic -\n",
    "  - Mean\n",
    "  - Median\n",
    "  - Mode\n",
    "  - Variance\n",
    "  - Standard Deviation\n",
    "  - Inter Quartile Range\n",
    "\n",
    "- BiVariate Statistics:\n",
    "Here's a couple of bivariate statistics that are used to measure the relationship between two variables.\n",
    "  - Covariance\n",
    "  - Correlation Coefficient\n",
    "  \n",
    "In the following code blocks let's take a look at each of the above mentioned methods.\n"
   ]
  },
  {
   "cell_type": "markdown",
   "metadata": {},
   "source": [
    "- Population Mean\n",
    "  -  This is the average of an entire dataset, For example to calculate the Average height of all men above 35 in the USA.\n",
    "  \n",
    "- Sample Mean\n",
    "  - While it will be a daunting task to calculate the avarege height of all men above the age of 35 in the USA, but it will be relatively easier to poll a subset (read) of the population, provided the sample is a good representaiton of the general population.\n",
    "  \\begin{align}\n",
    "  \\bar{x}=1/N\\sum_{i=1}^{n}xi\n",
    "  \\end{align}\n",
    " where N denotes the total number of observations"
   ]
  },
  {
   "cell_type": "markdown",
   "metadata": {},
   "source": [
    "The wing_lengths variable is a list that contains the length of the wings of a house fly in millimeters. In the next code cells we will be working with this dataset to calculate the univariate statistics.\n"
   ]
  },
  {
   "cell_type": "code",
   "execution_count": 17,
   "metadata": {
    "collapsed": true
   },
   "outputs": [],
   "source": [
    "import numpy as np\n",
    "import matplotlib.pyplot as plt\n",
    "from scipy import stats\n",
    "%matplotlib inline"
   ]
  },
  {
   "cell_type": "code",
   "execution_count": 19,
   "metadata": {
    "collapsed": false
   },
   "outputs": [
    {
     "name": "stdout",
     "output_type": "stream",
     "text": [
      "ModeResult(mode=array([45]), count=array([10]))\n",
      "Mean of wing lengths - 45.5\n",
      "Median of wing lengths - 45.5\n",
      "Mode of wing lengths - ModeResult(mode=array([45]), count=array([10]))\n"
     ]
    }
   ],
   "source": [
    "wing_lengths = [36, 37, 38, 38, 39, 39, 40, 40, 40, 40, 41, 41, 41, 41, 41, 41, 42, 42, 42, 42, 42, 42, 42, 43, 43, 43, 43, 43, 43, 43, 43, 44, 44, 44, 44, 44, 44, 44, 44, 44, 45, 45, 45, 45, 45, 45, 45, 45, 45, 45, 46, 46, 46, 46, 46, 46, 46, 46, 46, 46, 47, 47, 47, 47, 47, 47, 47, 47, 47, 48, 48, 48, 48, 48, 48, 48, 48, 49, 49, 49, 49, 49, 49, 49, 50, 50, 50, 50, 50, 50, 51, 51, 51, 51, 52, 52, 53, 53, 54, 55]\n",
    "wing_mean = np.mean(wing_lengths)\n",
    "wing_median = np.median(wing_lengths)\n",
    "wing_mode = stats.mode(wing_lengths)\n",
    "print(wing_mode)\n",
    "print(\"Mean of wing lengths - {}\".format(wing_mean))\n",
    "print(\"Median of wing lengths - {}\".format(wing_median))\n",
    "print(\"Mode of wing lengths - {}\".format(wing_mode))"
   ]
  },
  {
   "cell_type": "markdown",
   "metadata": {},
   "source": [
    "The mean and the median of this dataset is the same at 45.5.\n",
    "\n",
    "Let's plot the histogram and the mean for the wing_lengths dataset\n"
   ]
  },
  {
   "cell_type": "code",
   "execution_count": 61,
   "metadata": {
    "collapsed": false
   },
   "outputs": [
    {
     "data": {
      "image/png": "[encoded data removed]",
      "text/plain": [
       "<matplotlib.figure.Figure at 0x10e620cc0>"
      ]
     },
     "metadata": {},
     "output_type": "display_data"
    }
   ],
   "source": [
    "plt.hist(wing_lengths, bins=10, color=\"g\")\n",
    "plt.axvline(wing_mean, color=\"r\")\n",
    "plt.xlabel(\"wing spans\")\n",
    "plt.title(\"Histogram of wing lengths of flies in mm \")\n",
    "# To improve the data-ink ratio we will remove the ticks from both axes\n",
    "# We also want to remove the spines to tell a compelling story\n",
    "ax = plt.gca()\n",
    "ax.tick_params(bottom = \"off\", left=\"off\")\n",
    "spines = ax.spines\n",
    "for k,spine in spines.items():\n",
    "    spine.set_visible(False)\n",
    "plt.show()"
   ]
  },
  {
   "cell_type": "markdown",
   "metadata": {},
   "source": [
    "#### Variance\n",
    "The formula to calculate the variance is -\n",
    "\\begin{equation*}\n",
    "{var}=1/N\\sum_{i=1}^n(xi-\\bar{x})^2\n",
    "\\end{equation*}\n",
    "_ Where N is the total number of observations and x bar is the mean _"
   ]
  },
  {
   "cell_type": "code",
   "execution_count": 24,
   "metadata": {
    "collapsed": false
   },
   "outputs": [
    {
     "name": "stdout",
     "output_type": "stream",
     "text": [
      "The variance of the wing length dataset is 15.21\n"
     ]
    }
   ],
   "source": [
    "# write a function to calculate the variance of a dataset, assume the input will be a list\n",
    "def calc_variance(data):\n",
    "    mean = np.mean(data)\n",
    "    return np.mean([(x-mean)**2 for x in data])\n",
    "wing_length_variance = calc_variance(wing_lengths)\n",
    "print(\"The variance of the wing length dataset is {}\".format(wing_length_variance))"
   ]
  },
  {
   "cell_type": "markdown",
   "metadata": {},
   "source": [
    "#### Standard deviation\n",
    "The standard deviation gives an idea how much spread there is in the data around the mean.\n",
    "The formula to calculate the standard deviation is -\n",
    "\\begin{equation*}\n",
    "\\sigma=\\sqrt{1/N\\sum_{i=1}^n(xi-\\bar{x})^2}\n",
    "\\end{equation*}\n",
    "_ Which is the square root of the variance _\n",
    "\\begin{equation*}\n",
    "\\sigma=\\sqrt{var}\n",
    "\\end{equation*}"
   ]
  },
  {
   "cell_type": "code",
   "execution_count": 27,
   "metadata": {
    "collapsed": false
   },
   "outputs": [
    {
     "name": "stdout",
     "output_type": "stream",
     "text": [
      "Standard deviation of the wing length dataset is 3.9\n",
      "Standard deviation of the wing length dataset using numpy 3.9\n"
     ]
    }
   ],
   "source": [
    "# we can use the calc_variance method to calculate the standard deviation\n",
    "std_dev = calc_variance(wing_lengths)**(1/2)\n",
    "print(\"Standard deviation of the wing length dataset is {}\".format(std_dev))\n",
    "\n",
    "# lets validate the answer by using the numpy method\n",
    "std_dev_numpy = np.std(wing_lengths)\n",
    "print(\"Standard deviation of the wing length dataset using numpy {}\".format(std_dev_numpy))"
   ]
  },
  {
   "cell_type": "markdown",
   "metadata": {},
   "source": [
    "#### Plot the Standard deviations\n",
    "Next we will plot the data points that are 1, 2 and 3 standard deviations from the mean."
   ]
  },
  {
   "cell_type": "code",
   "execution_count": 41,
   "metadata": {
    "collapsed": false
   },
   "outputs": [
    {
     "data": {
      "image/png": "[encoded data removed]",
      "text/plain": [
       "<matplotlib.figure.Figure at 0x10e467518>"
      ]
     },
     "metadata": {},
     "output_type": "display_data"
    }
   ],
   "source": [
    "plt.hist(wing_lengths, bins=10, color=\"g\")\n",
    "plt.axvline(wing_mean, color=\"r\", label=\"Mean\")\n",
    "plt.xlabel(\"wing spans\")\n",
    "plt.title(\"Histogram of wing lengths of flies in mm \")\n",
    "# To improve the data-ink ratio we will remove the ticks from both axes\n",
    "# We also want to remove the spines to tell a compelling story\n",
    "ax = plt.gca()\n",
    "ax.tick_params(bottom = \"off\", left=\"off\")\n",
    "spines = ax.spines\n",
    "for k,spine in spines.items():\n",
    "    spine.set_visible(False)\n",
    "plt.axvline(wing_mean+std_dev,color=\"b\", label=\"1 stddev\")\n",
    "plt.axvline(wing_mean-std_dev, color=\"b\")\n",
    "plt.axvline(wing_mean-2*std_dev, color=\"y\", label=\"2 stddev\")\n",
    "plt.axvline(wing_mean+2*std_dev, color=\"y\")\n",
    "plt.axvline(wing_mean-3*std_dev, color=\"orange\", label=\"3 stddev\")\n",
    "plt.axvline(wing_mean+3*std_dev, color=\"orange\")\n",
    "ax.legend(loc=\"upper right\")\n",
    "plt.show()"
   ]
  },
  {
   "cell_type": "markdown",
   "metadata": {},
   "source": [
    "Observations :\n",
    "From the plot above, we can infer the following -\n",
    "- About 68% of the data is within 1 standard deviation.\n",
    "- 95% of the data is within 2 standard deviations\n",
    "- 100% of the data points are within the 3 standard deviations."
   ]
  },
  {
   "cell_type": "markdown",
   "metadata": {},
   "source": [
    "#### Bivariate statistics\n",
    "In the next section we will look at bivariate statistics i.e. the relationship between two columns. We will be using scatter plots to get an intuiton of the data. We will also be employing statistical tools such the correlation coeficient to analyze if two columns have a linear relationship.\n",
    "\n",
    "We'll be calculating statistics using data from the National Basketball Association (NBA). Here are the first few rows of the CSV file we'll explore:"
   ]
  },
  {
   "cell_type": "code",
   "execution_count": 43,
   "metadata": {
    "collapsed": false
   },
   "outputs": [
    {
     "data": {
      "text/html": [
       "<div>\n",
       "<style>\n",
       "    .dataframe thead tr:only-child th {\n",
       "        text-align: right;\n",
       "    }\n",
       "\n",
       "    .dataframe thead th {\n",
       "        text-align: left;\n",
       "    }\n",
       "\n",
       "    .dataframe tbody tr th {\n",
       "        vertical-align: top;\n",
       "    }\n",
       "</style>\n",
       "<table border=\"1\" class=\"dataframe\">\n",
       "  <thead>\n",
       "    <tr style=\"text-align: right;\">\n",
       "      <th></th>\n",
       "      <th>player</th>\n",
       "      <th>pos</th>\n",
       "      <th>age</th>\n",
       "      <th>bref_team_id</th>\n",
       "      <th>g</th>\n",
       "      <th>gs</th>\n",
       "      <th>mp</th>\n",
       "      <th>fg</th>\n",
       "      <th>fga</th>\n",
       "      <th>fg.</th>\n",
       "      <th>...</th>\n",
       "      <th>drb</th>\n",
       "      <th>trb</th>\n",
       "      <th>ast</th>\n",
       "      <th>stl</th>\n",
       "      <th>blk</th>\n",
       "      <th>tov</th>\n",
       "      <th>pf</th>\n",
       "      <th>pts</th>\n",
       "      <th>season</th>\n",
       "      <th>season_end</th>\n",
       "    </tr>\n",
       "  </thead>\n",
       "  <tbody>\n",
       "    <tr>\n",
       "      <th>0</th>\n",
       "      <td>Quincy Acy</td>\n",
       "      <td>SF</td>\n",
       "      <td>23</td>\n",
       "      <td>TOT</td>\n",
       "      <td>63</td>\n",
       "      <td>0</td>\n",
       "      <td>847</td>\n",
       "      <td>66</td>\n",
       "      <td>141</td>\n",
       "      <td>0.468</td>\n",
       "      <td>...</td>\n",
       "      <td>144</td>\n",
       "      <td>216</td>\n",
       "      <td>28</td>\n",
       "      <td>23</td>\n",
       "      <td>26</td>\n",
       "      <td>30</td>\n",
       "      <td>122</td>\n",
       "      <td>171</td>\n",
       "      <td>2013-2014</td>\n",
       "      <td>2013</td>\n",
       "    </tr>\n",
       "    <tr>\n",
       "      <th>1</th>\n",
       "      <td>Steven Adams</td>\n",
       "      <td>C</td>\n",
       "      <td>20</td>\n",
       "      <td>OKC</td>\n",
       "      <td>81</td>\n",
       "      <td>20</td>\n",
       "      <td>1197</td>\n",
       "      <td>93</td>\n",
       "      <td>185</td>\n",
       "      <td>0.503</td>\n",
       "      <td>...</td>\n",
       "      <td>190</td>\n",
       "      <td>332</td>\n",
       "      <td>43</td>\n",
       "      <td>40</td>\n",
       "      <td>57</td>\n",
       "      <td>71</td>\n",
       "      <td>203</td>\n",
       "      <td>265</td>\n",
       "      <td>2013-2014</td>\n",
       "      <td>2013</td>\n",
       "    </tr>\n",
       "    <tr>\n",
       "      <th>2</th>\n",
       "      <td>Jeff Adrien</td>\n",
       "      <td>PF</td>\n",
       "      <td>27</td>\n",
       "      <td>TOT</td>\n",
       "      <td>53</td>\n",
       "      <td>12</td>\n",
       "      <td>961</td>\n",
       "      <td>143</td>\n",
       "      <td>275</td>\n",
       "      <td>0.520</td>\n",
       "      <td>...</td>\n",
       "      <td>204</td>\n",
       "      <td>306</td>\n",
       "      <td>38</td>\n",
       "      <td>24</td>\n",
       "      <td>36</td>\n",
       "      <td>39</td>\n",
       "      <td>108</td>\n",
       "      <td>362</td>\n",
       "      <td>2013-2014</td>\n",
       "      <td>2013</td>\n",
       "    </tr>\n",
       "    <tr>\n",
       "      <th>3</th>\n",
       "      <td>Arron Afflalo</td>\n",
       "      <td>SG</td>\n",
       "      <td>28</td>\n",
       "      <td>ORL</td>\n",
       "      <td>73</td>\n",
       "      <td>73</td>\n",
       "      <td>2552</td>\n",
       "      <td>464</td>\n",
       "      <td>1011</td>\n",
       "      <td>0.459</td>\n",
       "      <td>...</td>\n",
       "      <td>230</td>\n",
       "      <td>262</td>\n",
       "      <td>248</td>\n",
       "      <td>35</td>\n",
       "      <td>3</td>\n",
       "      <td>146</td>\n",
       "      <td>136</td>\n",
       "      <td>1330</td>\n",
       "      <td>2013-2014</td>\n",
       "      <td>2013</td>\n",
       "    </tr>\n",
       "    <tr>\n",
       "      <th>4</th>\n",
       "      <td>Alexis Ajinca</td>\n",
       "      <td>C</td>\n",
       "      <td>25</td>\n",
       "      <td>NOP</td>\n",
       "      <td>56</td>\n",
       "      <td>30</td>\n",
       "      <td>951</td>\n",
       "      <td>136</td>\n",
       "      <td>249</td>\n",
       "      <td>0.546</td>\n",
       "      <td>...</td>\n",
       "      <td>183</td>\n",
       "      <td>277</td>\n",
       "      <td>40</td>\n",
       "      <td>23</td>\n",
       "      <td>46</td>\n",
       "      <td>63</td>\n",
       "      <td>187</td>\n",
       "      <td>328</td>\n",
       "      <td>2013-2014</td>\n",
       "      <td>2013</td>\n",
       "    </tr>\n",
       "  </tbody>\n",
       "</table>\n",
       "<p>5 rows × 31 columns</p>\n",
       "</div>"
      ],
      "text/plain": [
       "          player pos  age bref_team_id   g  gs    mp   fg   fga    fg.  \\\n",
       "0     Quincy Acy  SF   23          TOT  63   0   847   66   141  0.468   \n",
       "1   Steven Adams   C   20          OKC  81  20  1197   93   185  0.503   \n",
       "2    Jeff Adrien  PF   27          TOT  53  12   961  143   275  0.520   \n",
       "3  Arron Afflalo  SG   28          ORL  73  73  2552  464  1011  0.459   \n",
       "4  Alexis Ajinca   C   25          NOP  56  30   951  136   249  0.546   \n",
       "\n",
       "      ...      drb  trb  ast  stl  blk  tov   pf   pts     season  season_end  \n",
       "0     ...      144  216   28   23   26   30  122   171  2013-2014        2013  \n",
       "1     ...      190  332   43   40   57   71  203   265  2013-2014        2013  \n",
       "2     ...      204  306   38   24   36   39  108   362  2013-2014        2013  \n",
       "3     ...      230  262  248   35    3  146  136  1330  2013-2014        2013  \n",
       "4     ...      183  277   40   23   46   63  187   328  2013-2014        2013  \n",
       "\n",
       "[5 rows x 31 columns]"
      ]
     },
     "execution_count": 43,
     "metadata": {},
     "output_type": "execute_result"
    }
   ],
   "source": [
    "import pandas as pd\n",
    "nba_data = pd.read_csv(\"nba_2013.csv\")\n",
    "nba_data.head()"
   ]
  },
  {
   "cell_type": "markdown",
   "metadata": {},
   "source": [
    "Each row holds data on a single player for a single season. It contains the player's team, the total number of points the player scored, and other information.\n",
    "\n",
    "- Here are some of the interesting columns:\n",
    "\n",
    "  - player - The player's name\n",
    "  - pts - The total number of points the player scored\n",
    "  - ast - The player's total number of assists\n",
    "  - fg. - The player's field goal percentage for the season"
   ]
  },
  {
   "cell_type": "markdown",
   "metadata": {},
   "source": [
    "Much of statistics deals with analyzing how variables impact each other, and the first step is to graph them out with a scatterplot.\n",
    "\n",
    "While graphing them out, we can look at correlation. If two variables change together (ie, when one goes up, the other goes up), we know that they are correlated.\n",
    "\n",
    "* Make a scatterplot of the \"fta\" (free throws attempted) column against the \"pts\" column.\n",
    "* Make a scatterplot of the \"stl\" (steals) column against the \"pf\" column."
   ]
  },
  {
   "cell_type": "code",
   "execution_count": 59,
   "metadata": {
    "collapsed": false
   },
   "outputs": [
    {
     "data": {
      "image/png": "[encoded data removed]",
      "text/plain": [
       "<matplotlib.figure.Figure at 0x1123e9128>"
      ]
     },
     "metadata": {},
     "output_type": "display_data"
    }
   ],
   "source": [
    "cols =[\"fta\", \"pts\", \"stl\", \"pf\"]\n",
    "titles =[\"Free throw assists vs. Pts\", \"Steals vs. Personal Fouls\"]\n",
    "fig = plt.figure(figsize=(10,4))\n",
    "col_index = 0\n",
    "for i in range(0,2):\n",
    "    ax = fig.add_subplot(1,2, i+1)\n",
    "    ax.scatter(nba_data[cols[col_index]] , nba_data[cols[col_index+1]])\n",
    "    ax.set_xlabel(cols[col_index])\n",
    "    ax.set_ylabel(cols[col_index+1])\n",
    "    ax.set_title(titles[i])\n",
    "    col_index = col_index+2\n",
    "    ax.tick_params(left=\"off\", bottom=\"off\")\n",
    "    spines = ax.spines\n",
    "    for k,s in ax.spines.items():\n",
    "        s.set_visible(False)\n",
    "    \n",
    "\n",
    "plt.show()"
   ]
  },
  {
   "cell_type": "markdown",
   "metadata": {},
   "source": [
    "The slope for both the plots moves in the positive upward direction indicating a positive linear relationship.\n",
    "Measuring correlation can be a big help when we need to analyze a lot of variables. This spares us from having to eyeball all the columns.\n",
    "\n",
    "- The most common way to measure correlation is Pearson's r, which we also call as the r-value.\n",
    "\n",
    "  - A r value ranges from -1 to 1. \n",
    "  - -1 indicates a perfect negative linear relation. This would appear as a straight, downward-sloping line.\n",
    "  - 0 indicates no relation at all. We'd see a scatterplot with points that appear random.\n",
    "  - 1 indicates a perfect positive relationship. This would appear as a straight, upward-sloping line on our plots.\n",
    "  \n",
    "  In the following code cells we will be using a method from the scipy.stats.stats module to calculate the r.\n"
   ]
  },
  {
   "cell_type": "code",
   "execution_count": 62,
   "metadata": {
    "collapsed": false
   },
   "outputs": [
    {
     "name": "stdout",
     "output_type": "stream",
     "text": [
      "The correlation coefficient i.e. the r value between fta and pts variables is 0.9189785384020999\n"
     ]
    }
   ],
   "source": [
    "from scipy.stats.stats import pearsonr\n",
    "r, p_value = pearsonr(nba_data[\"fta\"], nba_data[\"pts\"])\n",
    "print(\"The correlation coefficient i.e. the r value between fta and pts variables is {}\".format(r))"
   ]
  },
  {
   "cell_type": "code",
   "execution_count": 63,
   "metadata": {
    "collapsed": false
   },
   "outputs": [
    {
     "name": "stdout",
     "output_type": "stream",
     "text": [
      "The correlation coefficient i.e. the r value between stl and pf variabes is 0.7376282167485283\n"
     ]
    }
   ],
   "source": [
    "r, p_value = pearsonr(nba_data[\"stl\"], nba_data[\"pf\"])\n",
    "print(\"The correlation coefficient i.e. the r value between stl and pf variabes is {}\".format(r))"
   ]
  },
  {
   "cell_type": "markdown",
   "metadata": {},
   "source": [
    "Two variables are correlated when they both vary individually, but in similar ways. \n",
    "For example correlation occurs when if one variable goes up, the second variable also goes up. This is called covariance. \n",
    "\n",
    "Covariance refers to how different variables vary jointly. There's a limit to how much two variables can covary. This is because each variable has it's own variance. These individual variances set a maximum theoretical limit on the covariance between two variables. In other words, a set of variables can't covary more from the mean than the two variables individually vary from the mean.\n",
    "\n",
    "Two variables reach the maximum covariance when they vary in an identical way (i.e. you see a straight line on the plot).\n",
    "\n",
    "The r-value is the ratio betnween the actual covariance and the maximum possible positive covariance.\n",
    "Let's look at actual covariance first, Mathematically speaking covariance between two variables looks like this\n",
    "The formula to calculate the variance is -\n",
    "\n",
    "\\begin{equation*}\n",
    "{cov(x,y)} = {1/N\\sum_{i=1}^n(xi-\\bar{x})(yi-\\bar{y})}\n",
    "\\end{equation*}\n",
    "_ Where N is the total number of observations and x bar is the mean of the x variable and y bar is the mean of the y variable _\n",
    "\n",
    "Next let's calculate the covariance between two variables -\n"
   ]
  },
  {
   "cell_type": "code",
   "execution_count": 66,
   "metadata": {
    "collapsed": false
   },
   "outputs": [
    {
     "name": "stdout",
     "output_type": "stream",
     "text": [
      "The covariance between fta and pts is 56618.4139807487\n",
      "The covariance between stl and pf is 1823.3548480513134\n"
     ]
    }
   ],
   "source": [
    "import numpy as np\n",
    "def calc_covariance(col1, col2):\n",
    "    xbar = np.mean(col1)\n",
    "    ybar = np.mean(col2)\n",
    "    N = len(col1)\n",
    "    xvar = [(x-xbar) for x in col1]\n",
    "    yvar = [ (y-ybar) for y in col2]\n",
    "    codeviates = [ xvar[i]*yvar[i] for i in range(len(col1))]\n",
    "    return np.mean(codeviates)\n",
    "\n",
    "cov_fta_pts = calc_covariance(nba_data[\"fta\"], nba_data[\"pts\"])\n",
    "print(\"The covariance between fta and pts is {}\".format(cov_fta_pts))\n",
    "\n",
    "cov_stl_pf = calc_covariance(nba_data[\"stl\"], nba_data[\"pf\"])\n",
    "print(\"The covariance between stl and pf is {}\".format(cov_stl_pf))"
   ]
  },
  {
   "cell_type": "markdown",
   "metadata": {},
   "source": [
    "Now that we know how to calculate the actual covaraince, let's look at how to calculate the correlation coefficient using the following formula -\n",
    "\\begin{equation*}\n",
    "{r} = {cov(x,y)}/{\\sigma x\\sigma y}\n",
    "\\end{equation*}\n",
    "_Where sigma x and sigma y are the standard deviations of x and y datasets and the product of the standard deviations represent the maximum possible deviation between the two variables._\n",
    "\n",
    "We can use the std method on a pandas dataseries to calculate the standard deviation, such as -\n",
    "```\n",
    "nba_data[\"fta\"].std()\n",
    "```\n",
    "\n",
    "We can use the cov function in numpy to compute the covariance of two variables, The following code returns the covariance between the pf and stl columns:\n",
    "```\n",
    "cov(nba_data[\"pf\"], nba_data[\"stl\"])[0,1]\n",
    "```\n",
    "\n",
    "In the next cell, let's write a method to calculate the r-value"
   ]
  },
  {
   "cell_type": "code",
   "execution_count": 67,
   "metadata": {
    "collapsed": false
   },
   "outputs": [
    {
     "name": "stdout",
     "output_type": "stream",
     "text": [
      "The correlation coefficient for fta vs. pts is 0.9189785384021004\n"
     ]
    }
   ],
   "source": [
    "def correlation_coeff(col1, col2):\n",
    "    covar = np.cov(col1, col2)[0,1]\n",
    "    return covar/(col1.std()*col2.std())\n",
    "\n",
    "r_fta_pts = correlation_coeff(nba_data[\"fta\"], nba_data[\"pts\"])\n",
    "print(\"The correlation coefficient for fta vs. pts is {}\".format(r_fta_pts))"
   ]
  },
  {
   "cell_type": "markdown",
   "metadata": {},
   "source": [
    "That wraps up the walkthrough and hopefully brief discussion of univariate bivariate statistics."
   ]
  },
  {
   "cell_type": "code",
   "execution_count": null,
   "metadata": {
    "collapsed": true
   },
   "outputs": [],
   "source": []
  }
 ],
 "metadata": {
  "anaconda-cloud": {},
  "kernelspec": {
   "display_name": "Python [py35]",
   "language": "python",
   "name": "Python [py35]"
  },
  "language_info": {
   "codemirror_mode": {
    "name": "ipython",
    "version": 3
   },
   "file_extension": ".py",
   "mimetype": "text/x-python",
   "name": "python",
   "nbconvert_exporter": "python",
   "pygments_lexer": "ipython3",
   "version": "3.5.3"
  }
 },
 "nbformat": 4,
 "nbformat_minor": 0
}
