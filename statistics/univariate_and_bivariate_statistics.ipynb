{
 "cells": [
  {
   "cell_type": "markdown",
   "metadata": {},
   "source": [
    "### Univariate and Bivariate statistics -\n",
    "In this notebook we will look at what are Univariate and Bivariate statistics and understand their significance in statistics.\n",
    "\n",
    "Full disclosure that the definitions and notes in the following sections were taken from the book - [\"Forecasting Principles and Practice\"](https://www.otexts.org/fpp) by Ron J Hyndman and George Athanasopoulos, It's a Comprehensive introduction to the latest forecasting methods using R. \n",
    "In this notebook we will look at Univariate Statistics and Bivariate Statistics. Both are methods to analyze and describe the data with a summary statistic. A summary number calculated from the data is called a statistic.\n",
    "\n",
    "- Univariate Descriptive Statistics:\n",
    "For a single data set, the most widely used statistics are the average and median. Following are a list of the different types of univariate statistic -\n",
    "  - Mean\n",
    "  - Median\n",
    "  - Mode\n",
    "  - Variance\n",
    "  - Standard Deviation\n",
    "  - Inter Quartile Range\n",
    "\n",
    "- BiVariate Statistics:\n",
    "Here's a couple of bivariate statistics that are used to measure the relationship between two variables.\n",
    "  - Covariance\n",
    "  - Correlation Coefficient\n",
    "  \n",
    "In the following code blocks let's take a look at each of the above mentioned methods.\n"
   ]
  },
  {
   "cell_type": "markdown",
   "metadata": {},
   "source": [
    "- Population Mean\n",
    "  -  This is the average of an entire dataset, For example to calculate the Average height of all men above 35 in the USA.\n",
    "  \n",
    "- Sample Mean\n",
    "  - While it will be a daunting task to calculate the avarege height of all men above the age of 35 in the USA, but it will be relatively easier to poll a subset (read) of the population, provided the sample is a good representaiton of the general population.\n",
    "  \\begin{align}\n",
    "  \\bar{x}=1/N\\sum_{i=1}^{n}xi\n",
    "  \\end{align}\n",
    " where N denotes the total number of observations"
   ]
  },
  {
   "cell_type": "markdown",
   "metadata": {},
   "source": [
    "The wing_lengths variable is a list that contains the length of the wings of a house fly in millimeters. In the next code cells we will be working with this dataset to calculate the univariate statistics.\n"
   ]
  },
  {
   "cell_type": "code",
   "execution_count": 17,
   "metadata": {
    "collapsed": true
   },
   "outputs": [],
   "source": [
    "import numpy as np\n",
    "import matplotlib.pyplot as plt\n",
    "from scipy import stats\n",
    "%matplotlib inline"
   ]
  },
  {
   "cell_type": "code",
   "execution_count": 19,
   "metadata": {
    "collapsed": false
   },
   "outputs": [
    {
     "name": "stdout",
     "output_type": "stream",
     "text": [
      "ModeResult(mode=array([45]), count=array([10]))\n",
      "Mean of wing lengths - 45.5\n",
      "Median of wing lengths - 45.5\n",
      "Mode of wing lengths - ModeResult(mode=array([45]), count=array([10]))\n"
     ]
    }
   ],
   "source": [
    "wing_lengths = [36, 37, 38, 38, 39, 39, 40, 40, 40, 40, 41, 41, 41, 41, 41, 41, 42, 42, 42, 42, 42, 42, 42, 43, 43, 43, 43, 43, 43, 43, 43, 44, 44, 44, 44, 44, 44, 44, 44, 44, 45, 45, 45, 45, 45, 45, 45, 45, 45, 45, 46, 46, 46, 46, 46, 46, 46, 46, 46, 46, 47, 47, 47, 47, 47, 47, 47, 47, 47, 48, 48, 48, 48, 48, 48, 48, 48, 49, 49, 49, 49, 49, 49, 49, 50, 50, 50, 50, 50, 50, 51, 51, 51, 51, 52, 52, 53, 53, 54, 55]\n",
    "wing_mean = np.mean(wing_lengths)\n",
    "wing_median = np.median(wing_lengths)\n",
    "wing_mode = stats.mode(wing_lengths)\n",
    "print(wing_mode)\n",
    "print(\"Mean of wing lengths - {}\".format(wing_mean))\n",
    "print(\"Median of wing lengths - {}\".format(wing_median))\n",
    "print(\"Mode of wing lengths - {}\".format(wing_mode))"
   ]
  },
  {
   "cell_type": "markdown",
   "metadata": {},
   "source": [
    "The mean and the median of this dataset is the same at 45.5.\n",
    "\n",
    "Let's plot the histogram and the mean for the wing_lengths dataset\n"
   ]
  },
  {
   "cell_type": "code",
   "execution_count": 21,
   "metadata": {
    "collapsed": false
   },
   "outputs": [
    {
     "data": {
      "image/png": "[encoded data removed]",
      "text/plain": [
       "<matplotlib.figure.Figure at 0x10feb7470>"
      ]
     },
     "metadata": {},
     "output_type": "display_data"
    }
   ],
   "source": [
    "plt.hist(wing_lengths, bins=10, color=\"g\")\n",
    "plt.axvline(wing_mean, color=\"r\")\n",
    "plt.xlabel(\"wing spans\")\n",
    "plt.title(\"Histogram of wing lengths of flies in mm \")\n",
    "# To improve the data-ink ratio we will remove the ticks from both axes\n",
    "# We also want to remove the spines to tell a compelling story\n",
    "ax = plt.gca()\n",
    "ax.tick_params(bottom = \"off\", left=\"off\")\n",
    "spines = ax.spines\n",
    "for k,spine in spines.items():\n",
    "    spine.set_visible(False)\n",
    "plt.show()"
   ]
  },
  {
   "cell_type": "markdown",
   "metadata": {},
   "source": [
    "#### Variance\n",
    "The formula to calculate the variance is -\n",
    "\\begin{equation*}\n",
    "{var}=1/N\\sum_{i=1}^n(xi-\\bar{x})^2\n",
    "\\end{equation*}\n",
    "_ Where N is the total number of observations and x bar is the mean _"
   ]
  },
  {
   "cell_type": "code",
   "execution_count": 24,
   "metadata": {
    "collapsed": false
   },
   "outputs": [
    {
     "name": "stdout",
     "output_type": "stream",
     "text": [
      "The variance of the wing length dataset is 15.21\n"
     ]
    }
   ],
   "source": [
    "# write a function to calculate the variance of a dataset, assume the input will be a list\n",
    "def calc_variance(data):\n",
    "    mean = np.mean(data)\n",
    "    return np.mean([(x-mean)**2 for x in data])\n",
    "wing_length_variance = calc_variance(wing_lengths)\n",
    "print(\"The variance of the wing length dataset is {}\".format(wing_length_variance))"
   ]
  },
  {
   "cell_type": "markdown",
   "metadata": {},
   "source": [
    "#### Standard deviation\n",
    "The standard deviation gives an idea how much spread there is in the data around the mean.\n",
    "The formula to calculate the standard deviation is -\n",
    "\\begin{equation*}\n",
    "\\sigma=\\sqrt{1/N\\sum_{i=1}^n(xi-\\bar{x})^2}\n",
    "\\end{equation*}\n",
    "_ Which is the square root of the variance _\n",
    "\\begin{equation*}\n",
    "\\sigma=\\sqrt{var}\n",
    "\\end{equation*}"
   ]
  },
  {
   "cell_type": "code",
   "execution_count": 27,
   "metadata": {
    "collapsed": false
   },
   "outputs": [
    {
     "name": "stdout",
     "output_type": "stream",
     "text": [
      "Standard deviation of the wing length dataset is 3.9\n",
      "Standard deviation of the wing length dataset using numpy 3.9\n"
     ]
    }
   ],
   "source": [
    "# we can use the calc_variance method to calculate the standard deviation\n",
    "std_dev = calc_variance(wing_lengths)**(1/2)\n",
    "print(\"Standard deviation of the wing length dataset is {}\".format(std_dev))\n",
    "\n",
    "# lets validate the answer by using the numpy method\n",
    "std_dev_numpy = np.std(wing_lengths)\n",
    "print(\"Standard deviation of the wing length dataset using numpy {}\".format(std_dev_numpy))"
   ]
  },
  {
   "cell_type": "code",
   "execution_count": null,
   "metadata": {
    "collapsed": true
   },
   "outputs": [],
   "source": []
  }
 ],
 "metadata": {
  "kernelspec": {
   "display_name": "Python [py35]",
   "language": "python",
   "name": "Python [py35]"
  },
  "language_info": {
   "codemirror_mode": {
    "name": "ipython",
    "version": 3
   },
   "file_extension": ".py",
   "mimetype": "text/x-python",
   "name": "python",
   "nbconvert_exporter": "python",
   "pygments_lexer": "ipython3",
   "version": "3.5.3"
  }
 },
 "nbformat": 4,
 "nbformat_minor": 0
}
