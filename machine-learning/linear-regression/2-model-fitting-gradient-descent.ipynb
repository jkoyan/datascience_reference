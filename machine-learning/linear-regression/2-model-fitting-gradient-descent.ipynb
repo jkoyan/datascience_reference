{
 "cells": [
  {
   "cell_type": "markdown",
   "metadata": {},
   "source": [
    "This notebook will explore ways to find the optimal parameter values to tune a Linear Regression model. Each combination of unique parameter values forms a unique linear regression model, and the process of finding these optimal values is known as model fitting. Both approaches to model fitting aims to minimize the following function -\n",
    "\n",
    "\\begin{equation*}\n",
    "{MSE} = {1/n}{\\sum_{i=1}^{n}}{({\\hat{yi}}-yi)^2}\n",
    "\\end{equation*}\n",
    "\n",
    "This function represents the mean squared error between the predicted values made using a given model and the true values.\n",
    "The problem of choosing a set of values that minimize or maximize another function is known as an optimization problem.\n",
    "\n",
    "To build an intuition for the optimization process, let's start with a single parameter linear regression model\n",
    "\n",
    "\\begin{equation*}\n",
    "{\\hat{y}} = a_1x_1\n",
    "\\end{equation*}"
   ]
  },
  {
   "cell_type": "code",
   "execution_count": null,
   "metadata": {
    "collapsed": true
   },
   "outputs": [],
   "source": []
  }
 ],
 "metadata": {
  "kernelspec": {
   "display_name": "Python 3",
   "language": "python",
   "name": "python3"
  },
  "language_info": {
   "codemirror_mode": {
    "name": "ipython",
    "version": 3
   },
   "file_extension": ".py",
   "mimetype": "text/x-python",
   "name": "python",
   "nbconvert_exporter": "python",
   "pygments_lexer": "ipython3",
   "version": "3.6.0"
  }
 },
 "nbformat": 4,
 "nbformat_minor": 2
}
