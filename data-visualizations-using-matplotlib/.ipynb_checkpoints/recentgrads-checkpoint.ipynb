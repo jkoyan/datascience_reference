{
 "cells": [
  {
   "cell_type": "code",
   "execution_count": 112,
   "metadata": {
    "collapsed": false,
    "nbpresent": {
     "id": "1407af22-453d-4caa-9695-fe5daac8c240"
    },
    "scrolled": false
   },
   "outputs": [
    {
     "name": "stdout",
     "output_type": "stream",
     "text": [
      "Dimensions of the recent_grads dataframe: (173, 22)\n",
      "Dimensions of the recent_grads dataframe after dropping nan: (172, 22)\n"
     ]
    },
    {
     "data": {
      "text/html": [
       "<div>\n",
       "<table border=\"1\" class=\"dataframe\">\n",
       "  <thead>\n",
       "    <tr style=\"text-align: right;\">\n",
       "      <th></th>\n",
       "      <th>Rank</th>\n",
       "      <th>Major_code</th>\n",
       "      <th>Total</th>\n",
       "      <th>Sample_size</th>\n",
       "      <th>Men</th>\n",
       "      <th>Women</th>\n",
       "      <th>ShareWomen</th>\n",
       "      <th>Employed</th>\n",
       "      <th>Full_time</th>\n",
       "      <th>Part_time</th>\n",
       "      <th>Full_time_year_round</th>\n",
       "      <th>Unemployed</th>\n",
       "      <th>Unemployment_rate</th>\n",
       "      <th>Median</th>\n",
       "      <th>P25th</th>\n",
       "      <th>P75th</th>\n",
       "      <th>College_jobs</th>\n",
       "      <th>Non_college_jobs</th>\n",
       "      <th>Low_wage_jobs</th>\n",
       "      <th>ShareMen</th>\n",
       "    </tr>\n",
       "  </thead>\n",
       "  <tbody>\n",
       "    <tr>\n",
       "      <th>count</th>\n",
       "      <td>172.000000</td>\n",
       "      <td>172.000000</td>\n",
       "      <td>172.000000</td>\n",
       "      <td>172.000000</td>\n",
       "      <td>172.000000</td>\n",
       "      <td>172.000000</td>\n",
       "      <td>172.000000</td>\n",
       "      <td>172.000000</td>\n",
       "      <td>172.000000</td>\n",
       "      <td>172.000000</td>\n",
       "      <td>172.000000</td>\n",
       "      <td>172.000000</td>\n",
       "      <td>172.000000</td>\n",
       "      <td>172.000000</td>\n",
       "      <td>172.000000</td>\n",
       "      <td>172.000000</td>\n",
       "      <td>172.000000</td>\n",
       "      <td>172.000000</td>\n",
       "      <td>172.000000</td>\n",
       "      <td>172.000000</td>\n",
       "    </tr>\n",
       "    <tr>\n",
       "      <th>mean</th>\n",
       "      <td>87.075581</td>\n",
       "      <td>3880.273256</td>\n",
       "      <td>39394.715116</td>\n",
       "      <td>358.127907</td>\n",
       "      <td>16723.877907</td>\n",
       "      <td>22653.656977</td>\n",
       "      <td>0.523090</td>\n",
       "      <td>31374.116279</td>\n",
       "      <td>26179.994186</td>\n",
       "      <td>8883.750000</td>\n",
       "      <td>19808.284884</td>\n",
       "      <td>2430.377907</td>\n",
       "      <td>0.068587</td>\n",
       "      <td>40152.325581</td>\n",
       "      <td>29440.406977</td>\n",
       "      <td>51561.046512</td>\n",
       "      <td>12394.279070</td>\n",
       "      <td>13361.732558</td>\n",
       "      <td>3881.453488</td>\n",
       "      <td>2.262339</td>\n",
       "    </tr>\n",
       "    <tr>\n",
       "      <th>std</th>\n",
       "      <td>50.221266</td>\n",
       "      <td>1692.670105</td>\n",
       "      <td>63468.993551</td>\n",
       "      <td>619.578329</td>\n",
       "      <td>28122.182046</td>\n",
       "      <td>41053.785020</td>\n",
       "      <td>0.231135</td>\n",
       "      <td>50766.623538</td>\n",
       "      <td>42948.847324</td>\n",
       "      <td>14675.322609</td>\n",
       "      <td>33223.830918</td>\n",
       "      <td>4120.646319</td>\n",
       "      <td>0.029967</td>\n",
       "      <td>11503.665592</td>\n",
       "      <td>9157.437674</td>\n",
       "      <td>14923.788658</td>\n",
       "      <td>21341.142889</td>\n",
       "      <td>23837.351017</td>\n",
       "      <td>6958.985234</td>\n",
       "      <td>9.248309</td>\n",
       "    </tr>\n",
       "    <tr>\n",
       "      <th>min</th>\n",
       "      <td>1.000000</td>\n",
       "      <td>1100.000000</td>\n",
       "      <td>609.000000</td>\n",
       "      <td>2.000000</td>\n",
       "      <td>119.000000</td>\n",
       "      <td>0.000000</td>\n",
       "      <td>0.000000</td>\n",
       "      <td>559.000000</td>\n",
       "      <td>488.000000</td>\n",
       "      <td>0.000000</td>\n",
       "      <td>340.000000</td>\n",
       "      <td>0.000000</td>\n",
       "      <td>0.000000</td>\n",
       "      <td>22000.000000</td>\n",
       "      <td>18500.000000</td>\n",
       "      <td>22000.000000</td>\n",
       "      <td>162.000000</td>\n",
       "      <td>50.000000</td>\n",
       "      <td>0.000000</td>\n",
       "      <td>0.001973</td>\n",
       "    </tr>\n",
       "    <tr>\n",
       "      <th>25%</th>\n",
       "      <td>43.750000</td>\n",
       "      <td>2402.750000</td>\n",
       "      <td>4559.750000</td>\n",
       "      <td>42.000000</td>\n",
       "      <td>2177.500000</td>\n",
       "      <td>1851.500000</td>\n",
       "      <td>0.336026</td>\n",
       "      <td>3734.750000</td>\n",
       "      <td>3181.000000</td>\n",
       "      <td>1037.500000</td>\n",
       "      <td>2474.750000</td>\n",
       "      <td>307.000000</td>\n",
       "      <td>0.050723</td>\n",
       "      <td>33000.000000</td>\n",
       "      <td>24000.000000</td>\n",
       "      <td>42000.000000</td>\n",
       "      <td>1744.750000</td>\n",
       "      <td>1594.000000</td>\n",
       "      <td>342.250000</td>\n",
       "      <td>0.143459</td>\n",
       "    </tr>\n",
       "    <tr>\n",
       "      <th>50%</th>\n",
       "      <td>87.500000</td>\n",
       "      <td>3607.500000</td>\n",
       "      <td>15104.000000</td>\n",
       "      <td>131.000000</td>\n",
       "      <td>5434.000000</td>\n",
       "      <td>8386.500000</td>\n",
       "      <td>0.539560</td>\n",
       "      <td>12031.500000</td>\n",
       "      <td>10073.500000</td>\n",
       "      <td>3332.500000</td>\n",
       "      <td>7436.500000</td>\n",
       "      <td>905.000000</td>\n",
       "      <td>0.068272</td>\n",
       "      <td>36000.000000</td>\n",
       "      <td>27000.000000</td>\n",
       "      <td>47050.000000</td>\n",
       "      <td>4467.500000</td>\n",
       "      <td>4603.500000</td>\n",
       "      <td>1238.500000</td>\n",
       "      <td>0.419554</td>\n",
       "    </tr>\n",
       "    <tr>\n",
       "      <th>75%</th>\n",
       "      <td>130.250000</td>\n",
       "      <td>5503.250000</td>\n",
       "      <td>38909.750000</td>\n",
       "      <td>339.000000</td>\n",
       "      <td>14631.000000</td>\n",
       "      <td>22553.750000</td>\n",
       "      <td>0.703299</td>\n",
       "      <td>31701.250000</td>\n",
       "      <td>25447.250000</td>\n",
       "      <td>9981.000000</td>\n",
       "      <td>17674.750000</td>\n",
       "      <td>2397.000000</td>\n",
       "      <td>0.087599</td>\n",
       "      <td>45000.000000</td>\n",
       "      <td>33000.000000</td>\n",
       "      <td>60000.000000</td>\n",
       "      <td>14595.750000</td>\n",
       "      <td>11791.750000</td>\n",
       "      <td>3496.000000</td>\n",
       "      <td>0.820807</td>\n",
       "    </tr>\n",
       "    <tr>\n",
       "      <th>max</th>\n",
       "      <td>173.000000</td>\n",
       "      <td>6403.000000</td>\n",
       "      <td>393735.000000</td>\n",
       "      <td>4212.000000</td>\n",
       "      <td>173809.000000</td>\n",
       "      <td>307087.000000</td>\n",
       "      <td>0.968954</td>\n",
       "      <td>307933.000000</td>\n",
       "      <td>251540.000000</td>\n",
       "      <td>115172.000000</td>\n",
       "      <td>199897.000000</td>\n",
       "      <td>28169.000000</td>\n",
       "      <td>0.177226</td>\n",
       "      <td>110000.000000</td>\n",
       "      <td>95000.000000</td>\n",
       "      <td>125000.000000</td>\n",
       "      <td>151643.000000</td>\n",
       "      <td>148395.000000</td>\n",
       "      <td>48207.000000</td>\n",
       "      <td>97.329602</td>\n",
       "    </tr>\n",
       "  </tbody>\n",
       "</table>\n",
       "</div>"
      ],
      "text/plain": [
       "             Rank   Major_code          Total  Sample_size            Men  \\\n",
       "count  172.000000   172.000000     172.000000   172.000000     172.000000   \n",
       "mean    87.075581  3880.273256   39394.715116   358.127907   16723.877907   \n",
       "std     50.221266  1692.670105   63468.993551   619.578329   28122.182046   \n",
       "min      1.000000  1100.000000     609.000000     2.000000     119.000000   \n",
       "25%     43.750000  2402.750000    4559.750000    42.000000    2177.500000   \n",
       "50%     87.500000  3607.500000   15104.000000   131.000000    5434.000000   \n",
       "75%    130.250000  5503.250000   38909.750000   339.000000   14631.000000   \n",
       "max    173.000000  6403.000000  393735.000000  4212.000000  173809.000000   \n",
       "\n",
       "               Women  ShareWomen       Employed      Full_time      Part_time  \\\n",
       "count     172.000000  172.000000     172.000000     172.000000     172.000000   \n",
       "mean    22653.656977    0.523090   31374.116279   26179.994186    8883.750000   \n",
       "std     41053.785020    0.231135   50766.623538   42948.847324   14675.322609   \n",
       "min         0.000000    0.000000     559.000000     488.000000       0.000000   \n",
       "25%      1851.500000    0.336026    3734.750000    3181.000000    1037.500000   \n",
       "50%      8386.500000    0.539560   12031.500000   10073.500000    3332.500000   \n",
       "75%     22553.750000    0.703299   31701.250000   25447.250000    9981.000000   \n",
       "max    307087.000000    0.968954  307933.000000  251540.000000  115172.000000   \n",
       "\n",
       "       Full_time_year_round    Unemployed  Unemployment_rate         Median  \\\n",
       "count            172.000000    172.000000         172.000000     172.000000   \n",
       "mean           19808.284884   2430.377907           0.068587   40152.325581   \n",
       "std            33223.830918   4120.646319           0.029967   11503.665592   \n",
       "min              340.000000      0.000000           0.000000   22000.000000   \n",
       "25%             2474.750000    307.000000           0.050723   33000.000000   \n",
       "50%             7436.500000    905.000000           0.068272   36000.000000   \n",
       "75%            17674.750000   2397.000000           0.087599   45000.000000   \n",
       "max           199897.000000  28169.000000           0.177226  110000.000000   \n",
       "\n",
       "              P25th          P75th   College_jobs  Non_college_jobs  \\\n",
       "count    172.000000     172.000000     172.000000        172.000000   \n",
       "mean   29440.406977   51561.046512   12394.279070      13361.732558   \n",
       "std     9157.437674   14923.788658   21341.142889      23837.351017   \n",
       "min    18500.000000   22000.000000     162.000000         50.000000   \n",
       "25%    24000.000000   42000.000000    1744.750000       1594.000000   \n",
       "50%    27000.000000   47050.000000    4467.500000       4603.500000   \n",
       "75%    33000.000000   60000.000000   14595.750000      11791.750000   \n",
       "max    95000.000000  125000.000000  151643.000000     148395.000000   \n",
       "\n",
       "       Low_wage_jobs    ShareMen  \n",
       "count     172.000000  172.000000  \n",
       "mean     3881.453488    2.262339  \n",
       "std      6958.985234    9.248309  \n",
       "min         0.000000    0.001973  \n",
       "25%       342.250000    0.143459  \n",
       "50%      1238.500000    0.419554  \n",
       "75%      3496.000000    0.820807  \n",
       "max     48207.000000   97.329602  "
      ]
     },
     "execution_count": 112,
     "metadata": {},
     "output_type": "execute_result"
    }
   ],
   "source": [
    "import pandas as pd\n",
    "import matplotlib.pyplot as plt\n",
    "%matplotlib inline\n",
    "\n",
    "dataFile='recent-grads.csv'\n",
    "\n",
    "recent_grads = pd.read_csv(dataFile)\n",
    "recent_grads[\"ShareMen\"] = recent_grads[\"Men\"]/recent_grads[\"Total\"]\n",
    "\n",
    "#print(recent_grads.head(2))\n",
    "#print(recent_grads.tail(2))\n",
    "\n",
    "print(\"Dimensions of the recent_grads dataframe: {0}\".format(recent_grads.shape))\n",
    "\n",
    "# cleanup the data to clear na's \n",
    "recent_grads.dropna(inplace=True)\n",
    "print(\"Dimensions of the recent_grads dataframe after dropping nan: {0}\".format(recent_grads.shape))\n",
    "\n",
    "#Understanding the scale and distribution of each column\n",
    "recent_grads.describe()"
   ]
  },
  {
   "cell_type": "code",
   "execution_count": 113,
   "metadata": {
    "collapsed": false,
    "nbpresent": {
     "id": "32eb7c80-057a-480a-9ae7-bcbd59e0821a"
    },
    "scrolled": false
   },
   "outputs": [
    {
     "data": {
      "image/png": "[encoded data removed]",
      "text/plain": [
       "<matplotlib.figure.Figure at 0x1193f90f0>"
      ]
     },
     "metadata": {},
     "output_type": "display_data"
    }
   ],
   "source": [
    "fig = plt.figure(figsize=(8,8))\n",
    "fig.subplots_adjust(wspace=0,hspace=0)\n",
    "ax1 = fig.add_subplot(2,2,1)\n",
    "ax1.set(ylim=[0,30])\n",
    "ax1.xaxis.set_visible(False)\n",
    "ax1.set_yticklabels([0,5,10,15,20,25,30])\n",
    "ax1.hist(recent_grads[\"ShareWomen\"])\n",
    "ax1.set_ylabel(\"ShareWomen\")\n",
    "\n",
    "ax2 = fig.add_subplot(2,2,2)\n",
    "ax2.xaxis.set_visible(False)\n",
    "ax2.yaxis.set_visible(False)\n",
    "ax2.set(ylim=[0.0,1.0])\n",
    "ax2.scatter(recent_grads[\"Unemployment_rate\"],recent_grads[\"ShareWomen\"])\n",
    "\n",
    "ax3 = fig.add_subplot(2,2,3)\n",
    "ax3.set(xlim=[0.0,1.0],ylim=[0.0,0.20])\n",
    "ax3.set_yticklabels([0.0,0.5,0.10,0.15])\n",
    "ax3.set_xticklabels([0.0,0.2,0.4,0.6,0.8],rotation=90)\n",
    "ax3.scatter(recent_grads[\"ShareWomen\"],recent_grads[\"Unemployment_rate\"])\n",
    "ax3.set_xlabel(\"ShareWomen\")\n",
    "ax3.set_ylabel(\"Unemployment_rate\")\n",
    "#Unemployment_rate\n",
    "ax4 = fig.add_subplot(2,2,4)\n",
    "ax4.set(xlim=[0.0,0.20])\n",
    "ax4.hist(recent_grads[\"Unemployment_rate\"])\n",
    "ax4.yaxis.set_visible(False)\n",
    "ax4.set_xticklabels([0.0,0.5,0.10,0.15,0.20],rotation=90)\n",
    "ax4.set_xlabel(\"Unemployment_rate\")\n",
    "plt.show()"
   ]
  },
  {
   "cell_type": "code",
   "execution_count": 114,
   "metadata": {
    "collapsed": false,
    "nbpresent": {
     "id": "88881fa4-8405-4258-b2b6-fababbd24cb8"
    },
    "scrolled": true
   },
   "outputs": [
    {
     "data": {
      "text/plain": [
       "<matplotlib.axes._subplots.AxesSubplot at 0x11922d400>"
      ]
     },
     "execution_count": 114,
     "metadata": {},
     "output_type": "execute_result"
    },
    {
     "data": {
      "image/png": "[encoded data removed]",
      "text/plain": [
       "<matplotlib.figure.Figure at 0x11925c8d0>"
      ]
     },
     "metadata": {},
     "output_type": "display_data"
    }
   ],
   "source": [
    "# Since the dataset contains information on the number of males and females included in the study, you can create\n",
    "# a grouped bar plot to compare the gender ratios across majors. In this code block we generate a grouped bar plot \n",
    "# to compare the ratios among male and female students across different majors in the Arts Major Category\n",
    "# We use the plot method of the dataframe to generate the bar plot.\n",
    "\n",
    "#print(recent_grads.columns.values)\n",
    "#print(set(sorted(recent_grads[\"Major_category\"].tolist())))\n",
    "#recent_grads.head(3)\n",
    "\n",
    "arts = recent_grads[recent_grads[\"Major_category\"]==\"Arts\"]\n",
    "arts.set_index(\"Major\",inplace=True)\n",
    "#print(arts.columns.values)\n",
    "#arts[\"ShareWomen\"].head(2)\n",
    "arts[[\"ShareMen\",\"ShareWomen\"]].plot(kind=\"bar\")\n",
    "#arts[[\"ShareMen\", \"ShareWomen\"]].plot(kind=\"bar\")"
   ]
  },
  {
   "cell_type": "markdown",
   "metadata": {},
   "source": [
    "The plot above offers a visual respresentation of the proportion of Women and Men for each arts Major.\n",
    "* Clearly Women dominate in the Graphic Design, Music, Fine Arts, Studio Arts and Theater Arts.\n",
    "\n",
    "The plot was generated using the plot method of the pandas dataframe. In the next code block we will generate the same plot using low level apis from the matplotlib library. "
   ]
  },
  {
   "cell_type": "code",
   "execution_count": 119,
   "metadata": {
    "collapsed": false,
    "nbpresent": {
     "id": "db586701-2b96-40fb-9af8-0cd2d7c9ced9"
    },
    "scrolled": false
   },
   "outputs": [
    {
     "data": {
      "image/png": "[encoded data removed]",
      "text/plain": [
       "<matplotlib.figure.Figure at 0x11a53aa58>"
      ]
     },
     "metadata": {},
     "output_type": "display_data"
    }
   ],
   "source": [
    "# In this code block we will generate the same kind of grouped bar plot using the matplotlib apis\n",
    "import numpy as np\n",
    "\n",
    "arts = recent_grads[recent_grads[\"Major_category\"]==\"Arts\"]\n",
    "\n",
    "fig = plt.figure(figsize=(8,8))\n",
    "ax = fig.add_subplot(1,1,1)\n",
    "n = arts.shape[0]\n",
    "\n",
    "locs = np.arange(0,n)\n",
    "offset_locs = locs+0.35\n",
    "\n",
    "\n",
    "bar1 = ax.bar(left=locs,height=arts[\"ShareMen\"].tolist(),width=0.35)#\n",
    "bar2 = ax.bar(left=offset_locs,height=arts[\"ShareMen\"].tolist(),width=0.35,color=\"green\")\n",
    "ax.set_xticklabels(arts[\"Major\"].tolist(),rotation=90)\n",
    "ax.set_xticks(offset_locs)\n",
    "plt.legend((bar1,bar2),(\"ShareMen\",\"ShareWomen\"),loc=\"upper left\")\n",
    "#plt.legend((bar_1, bar_2), (\"ShareMen\", \"ShareWomen\"), loc=\"upper left\")\n",
    "\n",
    "plt.grid()\n"
   ]
  },
  {
   "cell_type": "code",
   "execution_count": null,
   "metadata": {
    "collapsed": false,
    "nbpresent": {
     "id": "802907fb-508a-4de3-bf77-355b9fb2aa71"
    },
    "scrolled": false
   },
   "outputs": [],
   "source": []
  }
 ],
 "metadata": {
  "anaconda-cloud": {},
  "kernelspec": {
   "display_name": "Python [py35]",
   "language": "python",
   "name": "Python [py35]"
  },
  "language_info": {
   "codemirror_mode": {
    "name": "ipython",
    "version": 3
   },
   "file_extension": ".py",
   "mimetype": "text/x-python",
   "name": "python",
   "nbconvert_exporter": "python",
   "pygments_lexer": "ipython3",
   "version": "3.5.2"
  },
  "nbpresent": {
   "slides": {
    "3583c815-fc48-451c-8c6f-66fbdae053c7": {
     "id": "3583c815-fc48-451c-8c6f-66fbdae053c7",
     "prev": "df65454d-949a-4137-afd6-c3699fd27752",
     "regions": {
      "1743213a-258c-4be1-bca7-9f9da5a93b4d": {
       "attrs": {
        "height": 0.8,
        "width": 0.8,
        "x": 0.1,
        "y": 0.1
       },
       "content": {
        "cell": "802907fb-508a-4de3-bf77-355b9fb2aa71",
        "part": "whole"
       },
       "id": "1743213a-258c-4be1-bca7-9f9da5a93b4d"
      }
     }
    },
    "61b4e895-ebb1-483f-a350-7e8f4a7ddecd": {
     "id": "61b4e895-ebb1-483f-a350-7e8f4a7ddecd",
     "prev": "ca7092fa-26dd-4e06-82bc-1ec07aed6151",
     "regions": {
      "50671347-b273-4c32-b197-46cfe08196b1": {
       "attrs": {
        "height": 0.8,
        "width": 0.8,
        "x": 0.1,
        "y": 0.1
       },
       "content": {
        "cell": "88881fa4-8405-4258-b2b6-fababbd24cb8",
        "part": "whole"
       },
       "id": "50671347-b273-4c32-b197-46cfe08196b1"
      }
     }
    },
    "9a209159-c274-4f00-a964-20e3cc4fc089": {
     "id": "9a209159-c274-4f00-a964-20e3cc4fc089",
     "prev": null,
     "regions": {
      "d01448ea-43b3-4967-87f1-3cfbdc2a380b": {
       "attrs": {
        "height": 0.8,
        "width": 0.8,
        "x": 0.1,
        "y": 0.1
       },
       "content": {
        "cell": "1407af22-453d-4caa-9695-fe5daac8c240",
        "part": "whole"
       },
       "id": "d01448ea-43b3-4967-87f1-3cfbdc2a380b"
      }
     }
    },
    "ca7092fa-26dd-4e06-82bc-1ec07aed6151": {
     "id": "ca7092fa-26dd-4e06-82bc-1ec07aed6151",
     "prev": "9a209159-c274-4f00-a964-20e3cc4fc089",
     "regions": {
      "d5d7d143-6363-4655-9750-beabdb449497": {
       "attrs": {
        "height": 0.8,
        "width": 0.8,
        "x": 0.1,
        "y": 0.1
       },
       "content": {
        "cell": "32eb7c80-057a-480a-9ae7-bcbd59e0821a",
        "part": "whole"
       },
       "id": "d5d7d143-6363-4655-9750-beabdb449497"
      }
     }
    },
    "df65454d-949a-4137-afd6-c3699fd27752": {
     "id": "df65454d-949a-4137-afd6-c3699fd27752",
     "prev": "61b4e895-ebb1-483f-a350-7e8f4a7ddecd",
     "regions": {},
     "theme": null
    }
   },
   "themes": {}
  }
 },
 "nbformat": 4,
 "nbformat_minor": 0
}
