{
 "cells": [
  {
   "cell_type": "markdown",
   "metadata": {},
   "source": [
    "#### Use linear regression to predict wine quality\n",
    "In this notebook we will examine the application of linear regression algorithms to predict wine quality for variables that's not part of the existing dataset.\n",
    "\n",
    "The wine_quality_white.csv file contains data compiled by wine tasters where the quality of the wine is evaluated based on the variables such as density, alcohol, acidity.\n",
    "- density : Shows the amount of material dissolved in the wine.\n",
    "- alcohol : The alcohol content of the wine\n",
    "- quality : The average quality rating (1-10) given to the wine.\n",
    "\n",
    "Here's the first few rows of the dataset."
   ]
  },
  {
   "cell_type": "code",
   "execution_count": 42,
   "metadata": {},
   "outputs": [
    {
     "data": {
      "text/html": [
       "<div>\n",
       "<style>\n",
       "    .dataframe thead tr:only-child th {\n",
       "        text-align: right;\n",
       "    }\n",
       "\n",
       "    .dataframe thead th {\n",
       "        text-align: left;\n",
       "    }\n",
       "\n",
       "    .dataframe tbody tr th {\n",
       "        vertical-align: top;\n",
       "    }\n",
       "</style>\n",
       "<table border=\"1\" class=\"dataframe\">\n",
       "  <thead>\n",
       "    <tr style=\"text-align: right;\">\n",
       "      <th></th>\n",
       "      <th>fixed acidity</th>\n",
       "      <th>volatile acidity</th>\n",
       "      <th>citric acid</th>\n",
       "      <th>residual sugar</th>\n",
       "      <th>chlorides</th>\n",
       "      <th>free sulfur dioxide</th>\n",
       "      <th>total sulfur dioxide</th>\n",
       "      <th>density</th>\n",
       "      <th>pH</th>\n",
       "      <th>sulphates</th>\n",
       "      <th>alcohol</th>\n",
       "      <th>quality</th>\n",
       "    </tr>\n",
       "  </thead>\n",
       "  <tbody>\n",
       "    <tr>\n",
       "      <th>0</th>\n",
       "      <td>7.0</td>\n",
       "      <td>0.27</td>\n",
       "      <td>0.36</td>\n",
       "      <td>20.7</td>\n",
       "      <td>0.045</td>\n",
       "      <td>45.0</td>\n",
       "      <td>170.0</td>\n",
       "      <td>1.0010</td>\n",
       "      <td>3.00</td>\n",
       "      <td>0.45</td>\n",
       "      <td>8.8</td>\n",
       "      <td>6</td>\n",
       "    </tr>\n",
       "    <tr>\n",
       "      <th>1</th>\n",
       "      <td>6.3</td>\n",
       "      <td>0.30</td>\n",
       "      <td>0.34</td>\n",
       "      <td>1.6</td>\n",
       "      <td>0.049</td>\n",
       "      <td>14.0</td>\n",
       "      <td>132.0</td>\n",
       "      <td>0.9940</td>\n",
       "      <td>3.30</td>\n",
       "      <td>0.49</td>\n",
       "      <td>9.5</td>\n",
       "      <td>6</td>\n",
       "    </tr>\n",
       "    <tr>\n",
       "      <th>2</th>\n",
       "      <td>8.1</td>\n",
       "      <td>0.28</td>\n",
       "      <td>0.40</td>\n",
       "      <td>6.9</td>\n",
       "      <td>0.050</td>\n",
       "      <td>30.0</td>\n",
       "      <td>97.0</td>\n",
       "      <td>0.9951</td>\n",
       "      <td>3.26</td>\n",
       "      <td>0.44</td>\n",
       "      <td>10.1</td>\n",
       "      <td>6</td>\n",
       "    </tr>\n",
       "  </tbody>\n",
       "</table>\n",
       "</div>"
      ],
      "text/plain": [
       "   fixed acidity  volatile acidity  citric acid  residual sugar  chlorides  \\\n",
       "0            7.0              0.27         0.36            20.7      0.045   \n",
       "1            6.3              0.30         0.34             1.6      0.049   \n",
       "2            8.1              0.28         0.40             6.9      0.050   \n",
       "\n",
       "   free sulfur dioxide  total sulfur dioxide  density    pH  sulphates  \\\n",
       "0                 45.0                 170.0   1.0010  3.00       0.45   \n",
       "1                 14.0                 132.0   0.9940  3.30       0.49   \n",
       "2                 30.0                  97.0   0.9951  3.26       0.44   \n",
       "\n",
       "   alcohol  quality  \n",
       "0      8.8        6  \n",
       "1      9.5        6  \n",
       "2     10.1        6  "
      ]
     },
     "execution_count": 42,
     "metadata": {},
     "output_type": "execute_result"
    }
   ],
   "source": [
    "import pandas as pd\n",
    "import matplotlib.pyplot as plt\n",
    "%matplotlib inline\n",
    "\n",
    "wine_data = pd.read_csv(\"wine_quality_white.csv\")\n",
    "wine_data.head(3)"
   ]
  },
  {
   "cell_type": "markdown",
   "metadata": {},
   "source": [
    "Before we get started on linear regression, let's look at the theory of lines.\n",
    "A simple line is \n",
    "\\begin{align*}\n",
    "y=mx\n",
    "\\end{align*}\n",
    "\n",
    "_Where m is the slope of the line_\n",
    "\n",
    "##### Instructions\n",
    "- Plot the equation y=x, using the existing x variable."
   ]
  },
  {
   "cell_type": "code",
   "execution_count": 43,
   "metadata": {},
   "outputs": [
    {
     "data": {
      "image/png": "[encoded data removed]",
      "text/plain": [
       "<matplotlib.figure.Figure at 0x1f3c181eb70>"
      ]
     },
     "metadata": {},
     "output_type": "display_data"
    }
   ],
   "source": [
    "import numpy as np\n",
    "x = [0, 1, 2, 3, 4, 5]\n",
    "y = [0, 1, 2, 3, 4, 5]\n",
    "\n",
    "plt.plot(x,y)\n",
    "plt.show()"
   ]
  },
  {
   "cell_type": "markdown",
   "metadata": {},
   "source": [
    "From the above plot, every point on the y axis is the same as every point on the x axis, and the slope of the line is 1, i.e for a unit change on the x axis in the +ve direction results in a unit change in the vertical direction on the y axis.\n",
    "##### Instructions\n",
    "- Plot the equation y=x−1, using the existing x variable.\n",
    "- Plot the equation y=x+10, using the existing x variable."
   ]
  },
  {
   "cell_type": "code",
   "execution_count": 44,
   "metadata": {},
   "outputs": [
    {
     "data": {
      "image/png": "[encoded data removed]",
      "text/plain": [
       "<matplotlib.figure.Figure at 0x1f3c1aa97f0>"
      ]
     },
     "metadata": {},
     "output_type": "display_data"
    }
   ],
   "source": [
    "x = np.asarray([0, 1, 2, 3, 4, 5])\n",
    "y = x - 1\n",
    "plt.plot(x, y)\n",
    "plt.show()"
   ]
  },
  {
   "cell_type": "markdown",
   "metadata": {},
   "source": [
    "From the above equation, the slope is 1 and the y intercept is -1, which means that when x = 0, the y value will be -1. \n"
   ]
  },
  {
   "cell_type": "markdown",
   "metadata": {},
   "source": [
    "In the next code blocks we will look at slopes that are greater than 1\n",
    "#### Instructions\n",
    "\n",
    "- Plot the equation y=4x, using the existing x variable.\n",
    "- Plot the equation y=.5x, using the existing x variable.\n",
    "- Plot the equation y=−2x, using the existing x variable."
   ]
  },
  {
   "cell_type": "code",
   "execution_count": 45,
   "metadata": {},
   "outputs": [
    {
     "data": {
      "image/png": "[encoded data removed]",
      "text/plain": [
       "<matplotlib.figure.Figure at 0x1f3c1a2f1d0>"
      ]
     },
     "metadata": {},
     "output_type": "display_data"
    },
    {
     "data": {
      "image/png": "[encoded data removed]",
      "text/plain": [
       "<matplotlib.figure.Figure at 0x1f3be9558d0>"
      ]
     },
     "metadata": {},
     "output_type": "display_data"
    },
    {
     "data": {
      "image/png": "[encoded data removed]",
      "text/plain": [
       "<matplotlib.figure.Figure at 0x1f3bfd545f8>"
      ]
     },
     "metadata": {},
     "output_type": "display_data"
    }
   ],
   "source": [
    "x = np.asarray([0, 1, 2, 3, 4, 5])\n",
    "y = 4*x\n",
    "\n",
    "plt.plot(x,y)\n",
    "plt.show()\n",
    "\n",
    "y = .5*x\n",
    "plt.plot(x,y)\n",
    "plt.show()\n",
    "\n",
    "y = 2*x\n",
    "plt.plot(x,y)\n",
    "plt.show()"
   ]
  },
  {
   "cell_type": "markdown",
   "metadata": {},
   "source": [
    "### Correlation and Prediction\n",
    "The correlation coefficient i.e. the r-value is an indicator of how correlated two variables are, the values of the r-value can range from -1 to 1. Where -1 indicates a -ve correlation and a 1 represents a +ve correlation, a value of 0 means that the two variables do not have any correlation whatsoever.\n",
    "\n",
    "The stronger the correlation coefficient between the two variables, the easier it is to predict one variable if we know the value of the other. For instance, If I know how much I pay for carrots in a grocery store is highly positively correlated to the weight of the carrots (in pounds), I can create a formula that helps me predict how much I would be paying for the carrots.\n",
    "\n",
    "The equation to create the formula takes the form \n",
    "\n",
    "\\begin{equation*}\n",
    "{y} = {mx+b}\n",
    "\\end{equation*}\n",
    "_Where m is the slope and b is the intercept_\n",
    "\n",
    "We'll have to calculate values of m and b before we can use the formula.\n",
    "\n",
    "The formula for the slope m  is \n",
    "\n",
    "\\begin{equation*}\n",
    "{m} = {cov(x,y)}/{\\sigma^2 x}\n",
    "\\end{equation*}\n",
    "\n",
    "_Which is just the covariance of x and y divided by the variance of x._\n",
    "We can use the cov function in numpy to calculate the covariance and the .var() method on Pandas series to calculate variance. \n",
    "\n",
    "#### Instructions\n",
    "- Calculate the slope you would need to predict the \"quality\" column (y) using the \"density\" column (x).\n",
    "- Assign the slope to slope_density"
   ]
  },
  {
   "cell_type": "code",
   "execution_count": 46,
   "metadata": {},
   "outputs": [
    {
     "name": "stdout",
     "output_type": "stream",
     "text": [
      "Covariance of the density and quality columns is -0.0008135274381953832\n",
      "Correlation Coefficient is -0.3071233127347247\n",
      "Slope of the density vs quality columns is -90.94239994213781\n"
     ]
    }
   ],
   "source": [
    "covar = np.cov(wine_data[\"density\"], wine_data[\"quality\"])[0, 1]\n",
    "print(\"Covariance of the density and quality columns is {}\".format(covar))\n",
    "r_value = covar/(wine_data[\"density\"].std()*wine_data[\"quality\"].std())\n",
    "print(\"Correlation Coefficient is {}\".format(r_value))\n",
    "slope_density = covar/wine_data[\"density\"].var()\n",
    "print(\"Slope of the density vs quality columns is {}\".format(slope_density))"
   ]
  },
  {
   "cell_type": "markdown",
   "metadata": {},
   "source": [
    "Lets plot a sacatter plot of the density vs. quality columns to get an intuiton of the slope."
   ]
  },
  {
   "cell_type": "code",
   "execution_count": 47,
   "metadata": {},
   "outputs": [
    {
     "data": {
      "image/png": "[encoded data removed]",
      "text/plain": [
       "<matplotlib.figure.Figure at 0x1f3c1a2f128>"
      ]
     },
     "metadata": {},
     "output_type": "display_data"
    }
   ],
   "source": [
    "plt.scatter(wine_data[\"density\"], wine_data[\"quality\"])\n",
    "ax = plt.gca()\n",
    "ax.tick_params(bottom = \"off\", left=\"off\")\n",
    "spines = ax.spines\n",
    "for k,s in spines.items():\n",
    "    s.set_visible(False)\n",
    "plt.show()"
   ]
  },
  {
   "cell_type": "markdown",
   "metadata": {
    "collapsed": true
   },
   "source": [
    "So the slope of the line denisty vs. quality is -90.94 and the r-value i.e. correlation coefficient is --0.3071233127347247, which indicates that when the density of the wine increases the quality decreases by a very small value.\n",
    "\n",
    "In the next code cells let's calculate the intercept, after which we will be able to predict the quality based on the wine density.\n",
    "\n",
    "The intercept is just how much higher or lower the average y point is that our predicted value.\n",
    "We can compute the intercept by using the slope and the mean of the density (x) and quality (y) values -\n",
    "\n",
    "\\begin{equation*}\n",
    "{b} ={\\bar{y} - {m}\\bar{x}}\n",
    "\\end{equation*}\n",
    "_Where m is the slope, b is the intercept, y bar is the mean of the quality column and x bar is the mean of the density column._\n",
    "\n",
    "#### Instructions\n",
    "- Calculate the y-intercept that is required to predict the \"quality\" column (y) using the \"density\" column (x).\n",
    "- Assign the result to intercept_density.\n"
   ]
  },
  {
   "cell_type": "code",
   "execution_count": 48,
   "metadata": {},
   "outputs": [
    {
     "name": "stdout",
     "output_type": "stream",
     "text": [
      "The Y intercept for the density vs. quality line is 96.27714457605082\n"
     ]
    }
   ],
   "source": [
    "intercept_density = wine_data[\"quality\"].mean() - slope_density*wine_data[\"density\"].mean()\n",
    "print(\"The Y intercept for the density vs. quality line is {}\".format(intercept_density))"
   ]
  },
  {
   "cell_type": "markdown",
   "metadata": {},
   "source": [
    "Now that we have computed the slope and the intercept, we can make predictions about the y values from the x values.\n",
    "\n",
    "In order to do this we will put to use the original formula for a line -\n",
    "\n",
    "\\begin{equation*}\n",
    "{y} = {mx + b}\n",
    "\\end{equation*}\n",
    "\n",
    "and substitute the values for m and b, we can then predict y-values for any x-value. This lets us make predictions about the quality of x-values that we've never seen. For example, a wine with a density of .98 isn't in our dataset, but we can make a prediction about what quality a reviewer would assign to a wine with this density.\n",
    "\n",
    "Depending on how correlated the predictor and the value being predicted are, the predictions may be good or bad.\n",
    "\n",
    "Let's look at making predictions.\n",
    "\n",
    "#### Instructions\n",
    "- Write a function to compute the predicted y-value from a given x-value.\n",
    "- Use the .apply() method on the \"density\" column to apply the function to each item in the column. This will compute all the predicted y-values.\n",
    "- Assign the result to predicted_quality."
   ]
  },
  {
   "cell_type": "code",
   "execution_count": 49,
   "metadata": {},
   "outputs": [
    {
     "name": "stdout",
     "output_type": "stream",
     "text": [
      "slope =  -90.9423999421\n",
      "Y-Intercept =  96.2771445761\n"
     ]
    },
    {
     "data": {
      "text/plain": [
       "count    4898.000000\n",
       "mean        0.994027\n",
       "std         0.002991\n",
       "min         0.987110\n",
       "25%         0.991723\n",
       "50%         0.993740\n",
       "75%         0.996100\n",
       "max         1.038980\n",
       "Name: density, dtype: float64"
      ]
     },
     "execution_count": 49,
     "metadata": {},
     "output_type": "execute_result"
    }
   ],
   "source": [
    "def predict_y(x, y):\n",
    "    #calculate the slope m, where m = cov(x,y)/var(x)\n",
    "    cov = np.cov(x,y)[0,1]\n",
    "    m = cov/x.var()\n",
    "    print(\"slope = \",m)\n",
    "    #calculate intercept b = ybar - mxbar\n",
    "    b = y.mean() - m*x.mean()\n",
    "    print(\"Y-Intercept = \", b)\n",
    "    y_pred = m*x+b\n",
    "    \n",
    "    return y_pred\n",
    "    \n",
    "predicted_quality = predict_y(wine_data[\"density\"], wine_data[\"quality\"])\n",
    "predicted_quality.head()\n",
    "wine_data[\"density\"].describe()\n",
    "    "
   ]
  },
  {
   "cell_type": "markdown",
   "metadata": {},
   "source": [
    "Let's plot the predicted line and the actual y"
   ]
  },
  {
   "cell_type": "code",
   "execution_count": 50,
   "metadata": {},
   "outputs": [
    {
     "data": {
      "image/png": "[encoded data removed]",
      "text/plain": [
       "<matplotlib.figure.Figure at 0x1f3c1a2fd68>"
      ]
     },
     "metadata": {},
     "output_type": "display_data"
    }
   ],
   "source": [
    "plt.plot(wine_data[\"density\"], wine_data[\"quality\"], c = \"blue\", label=\"actual quality\")\n",
    "plt.plot(wine_data[\"density\"], predicted_quality, c = \"orange\", label=\"predicted quality\")\n",
    "plt.ylim([0,9])\n",
    "plt.xlim([0.96,1.04])\n",
    "plt.show()\n"
   ]
  },
  {
   "cell_type": "markdown",
   "metadata": {},
   "source": [
    "How do we explain the above plot?\n",
    "Well the blue lines depict the actual y-values and it's all over the plot. The regression line makes sense because both the x and y value have a -ve correlation coefficient of -0.3071233127347247 and the slope of the line is -90.94 with an y-intercept of 96.27714457605082."
   ]
  },
  {
   "cell_type": "markdown",
   "metadata": {},
   "source": [
    "We know to calculate the regression line manually, fortunately there's an easier way to accomplish this, by using a function from the scipy framework.\n",
    "\n",
    "The linregress function makes it simple to do linear regression."
   ]
  },
  {
   "cell_type": "code",
   "execution_count": 51,
   "metadata": {},
   "outputs": [
    {
     "name": "stdout",
     "output_type": "stream",
     "text": [
      "Slope = -90.94239994213798, y-intercept = 96.27714457605155, correlation coefficient = -0.3071233127347297, p value = 1.7279878711663e-107, std err = 4.027348178954\n"
     ]
    }
   ],
   "source": [
    "from scipy.stats import linregress\n",
    "\n",
    "slope, intercept, r_value, p_value, stderr_slope = linregress(wine_data[\"density\"], wine_data[\"quality\"])\n",
    "\n",
    "print(\"Slope = {}, y-intercept = {}, correlation coefficient = {}, p value = {}, std err = {}\".format(slope, intercept, r_value, p_value, stderr_slope ))"
   ]
  },
  {
   "cell_type": "markdown",
   "metadata": {},
   "source": [
    "Now that we know a simpler way to do linear regression, let's look at how to grade our regresison, if it is good or bad.\n",
    "- We can plot our line and aour actual values (see above plot), and see how far apart they are on the y-axis.\n",
    "- We can also compute the distance between each prediction and the actual value, the distance is called the residuals.\n",
    "- if we add up the sum of the squared residuals, we can get a good error estimate for our line.\n",
    "- We have to add the squared residuals, because just like differences from the mean, the residuals add upto 0 if they aren't squared.\n",
    "\n",
    "To put it in math terms , the sum of the squared residuals can be represented as follows -\n",
    "\n",
    "\\begin{equation*}\n",
    "{RSS} = {\\sum_{i=1}^{n}(yi - \\hat{yi})^2}\n",
    "\\end{equation*}\n",
    "\n",
    "_Where the variable_\n",
    "\n",
    "\\begin{equation*}\n",
    "{\\hat{yi}}\n",
    "\\end{equation*}\n",
    "_is the predicted y value at position i._\n",
    "\n",
    "In the next code blocks we are going to do this :\n",
    "- Using the given slope and intercept, calculate the predicted y values.\n",
    "- Subtract each predicted y value from the corresponding actual y value, square the difference and add all the differences together.\n",
    "- This will give the sum of squared residuals, assign this value to rss\n"
   ]
  },
  {
   "cell_type": "code",
   "execution_count": 53,
   "metadata": {},
   "outputs": [
    {
     "name": "stdout",
     "output_type": "stream",
     "text": [
      "Sum of residuals is 3478.689469688176\n"
     ]
    }
   ],
   "source": [
    "predicted_y = np.asarray([slope * x + intercept for x in wine_data[\"density\"]])\n",
    "residuals = (wine_data[\"quality\"] - predicted_y)**2\n",
    "rss = sum(residuals)\n",
    "print(\"Sum of residuals is {}\".format(rss))"
   ]
  },
  {
   "cell_type": "markdown",
   "metadata": {
    "collapsed": true
   },
   "source": [
    "- We can dervice the standard error from the sum of squared residuals. The standard errod is similar to the standard deviation, but it tries to make an estimate for the whole population of y-values. Even the ones we haven't observed yet.\n",
    "\n",
    "- The standard error lets us quickly determine how good or bad a linear model is at prediction.\n",
    "\n",
    "- The equation for standard error is \n",
    "\n",
    "\\begin{equation*}\n",
    "{E} = {\\sqrt RSS/(n-2)} \n",
    "\\end{equation*}\n",
    "\n",
    "- The sum of squared errors is divided by the number of y-points minus two, an then take the square root.\n",
    "- The 2 is subtracted to account for the whole population.  \n",
    "\n",
    "In the next code blocks we will look at calculating the standar errors -\n",
    "- Calculate the standard error using the above formula.\n",
    "- Calculate what proportion of actual y values are within 1 standard error of the predicted y value. Assign the result to within_one.\n",
    "- Calculate what proportion of actual y values are within 2 standard errors of the predicted y value. Assign the result to within_two.\n",
    "- Calculate what proportion of actual y values are within 3 standard errors of the predicted y value. Assign the result to within_three.\n",
    "- Assume that \"within\" means \"up to and including\", so be sure to count values that are exactly 1, 2, or 3 standard errors away."
   ]
  },
  {
   "cell_type": "code",
   "execution_count": 62,
   "metadata": {},
   "outputs": [
    {
     "name": "stdout",
     "output_type": "stream",
     "text": [
      "Standard Error = 0.8429214910361993\n",
      "The proportion of values within 1 standard error is 0.6845651286239282.\n",
      "The proportion of values within 2 standard error is 0.9356880359330338.\n",
      "The proportion of values within 3 standard error is 0.9936708860759493.\n"
     ]
    }
   ],
   "source": [
    "stderr = (rss/(len(wine_data[\"quality\"]) - 2))**(1/2)\n",
    "print(\"Standard Error = {}\".format(stderr))\n",
    "\n",
    "def within_percentage(y, predicted_y, error_count, std_err):\n",
    "    within = std_err*error_count\n",
    "    \n",
    "    diff = abs(y-predicted_y)\n",
    "    lower_diff = [d for d in diff if d <= within]\n",
    "    proportion = len(lower_diff)/len(y)\n",
    "    return proportion\n",
    "\n",
    "within_one = within_percentage(wine_data[\"quality\"], predicted_y, 1, stderr)\n",
    "within_two = within_percentage(wine_data[\"quality\"], predicted_y, 2, stderr)\n",
    "within_three = within_percentage(wine_data[\"quality\"], predicted_y, 3, stderr)\n",
    "\n",
    "print(\"The proportion of values within 1 standard error is {}.\".format(within_one))\n",
    "print(\"The proportion of values within 2 standard error is {}.\".format(within_two))\n",
    "print(\"The proportion of values within 3 standard error is {}.\".format(within_three))\n"
   ]
  },
  {
   "cell_type": "markdown",
   "metadata": {},
   "source": []
  }
 ],
 "metadata": {
  "kernelspec": {
   "display_name": "Python 3",
   "language": "python",
   "name": "python3"
  },
  "language_info": {
   "codemirror_mode": {
    "name": "ipython",
    "version": 3
   },
   "file_extension": ".py",
   "mimetype": "text/x-python",
   "name": "python",
   "nbconvert_exporter": "python",
   "pygments_lexer": "ipython3",
   "version": "3.6.1"
  }
 },
 "nbformat": 4,
 "nbformat_minor": 2
}
